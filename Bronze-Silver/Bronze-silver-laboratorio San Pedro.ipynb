{
 "cells": [
  {
   "cell_type": "code",
   "execution_count": 14,
   "id": "2b5f84a2",
   "metadata": {},
   "outputs": [],
   "source": [
    "from minio.error import S3Error\n",
    "import fitz  # PyMuPDF\n",
    "from datetime import datetime\n",
    "from io import BytesIO\n",
    "import pandas as pd\n",
    "import re\n",
    "import psycopg2\n",
    "import import_ipynb\n",
    "from Utils import conectar_minio, generar_ruta_fecha,extraer_archivo_minio, insert_into_info_lab, cargar_dfpaciente, agregar_fuente, agregar_observacion\n",
    "import os\n",
    "from dotenv import load_dotenv"
   ]
  },
  {
   "cell_type": "code",
   "execution_count": 15,
   "id": "7daed534",
   "metadata": {},
   "outputs": [
    {
     "data": {
      "text/plain": [
       "True"
      ]
     },
     "execution_count": 15,
     "metadata": {},
     "output_type": "execute_result"
    }
   ],
   "source": [
    "# Cargar variables del archivo .env\n",
    "load_dotenv()"
   ]
  },
  {
   "cell_type": "code",
   "execution_count": 16,
   "id": "3c7e224b",
   "metadata": {},
   "outputs": [
    {
     "name": "stdout",
     "output_type": "stream",
     "text": [
      "Conexión exitosa a MinIO en localhost:9000\n",
      "Buckets disponibles: ['yachay', 'yachay-bronze', 'yachay-landing']\n"
     ]
    }
   ],
   "source": [
    "minio_client = conectar_minio(\n",
    "    endpoint=os.getenv(\"MINIO_ENDPOINT\"),\n",
    "    access_key=os.getenv(\"MINIO_ACCESS_KEY\"),\n",
    "    secret_key=os.getenv(\"MINIO_SECRET_KEY\"),\n",
    "    secure=False  # Usar HTTPS\n",
    ")"
   ]
  },
  {
   "cell_type": "code",
   "execution_count": 17,
   "id": "05a5c19e",
   "metadata": {},
   "outputs": [],
   "source": [
    "ruta_fecha = generar_ruta_fecha() "
   ]
  },
  {
   "cell_type": "code",
   "execution_count": 18,
   "id": "82728775",
   "metadata": {},
   "outputs": [
    {
     "name": "stdout",
     "output_type": "stream",
     "text": [
      "           ADMISION TIPO ID  NOHISTORIA                          PACIENTE  \\\n",
      "0           1285375      CC    12865021         GOMEZ SALAS VICENTE RAMON   \n",
      "1           1274217      CC     5256941        ARTEAGA ROSERO JOSE MARINO   \n",
      "2           1274357      CC    27093153  DELGADO CABRERA ROMELIA TRINIDAD   \n",
      "3           1273941      CC    27387098  OBANDO ARTEAGA CENEIDA GUADALUPE   \n",
      "4           1274230      CC    27079284         BENAVIDES  LAURA VICTORIA   \n",
      "...             ...     ...         ...                               ...   \n",
      "11790       1415305      CC    87220025   BENAVIDES ORDOÑEZ ANTONIO MARIA   \n",
      "11791       1415408      CC    59799383   RODRIGUEZ CEBALLOS MERY EULALIA   \n",
      "11792       1415560      CC  1086358558          GOMEZ DIAZ KAREN MELISSA   \n",
      "11793           NaN     NaN         NaN                               NaN   \n",
      "11794  05/feb./2024     NaN         NaN                               NaN   \n",
      "\n",
      "      FECHA NACIMIENTO       SEXO  \\\n",
      "0           1953-04-05  MASCULINO   \n",
      "1           1944-11-14  MASCULINO   \n",
      "2           1957-11-28   FEMENINO   \n",
      "3           1960-08-05   FEMENINO   \n",
      "4           1943-02-04   FEMENINO   \n",
      "...                ...        ...   \n",
      "11790       1954-04-12  MASCULINO   \n",
      "11791       1970-08-08   FEMENINO   \n",
      "11792       2004-09-29   FEMENINO   \n",
      "11793              NaN        NaN   \n",
      "11794              NaN        NaN   \n",
      "\n",
      "                                               EMPRESA  \\\n",
      "0                NUEVA E.P.S. CONTRIBUTIVO (2022-2023)   \n",
      "1                EMSSANAR EPS SAS SUBSIDIADO 2023-2024   \n",
      "2                EMSSANAR EPS SAS SUBSIDIADO 2023-2024   \n",
      "3                NUEVA E.P.S. CONTRIBUTIVO (2022-2023)   \n",
      "4                EMSSANAR EPS SAS SUBSIDIADO 2023-2024   \n",
      "...                                                ...   \n",
      "11790                                       PARTICULAR   \n",
      "11791                         MALLAMAS EPSI SUBSIDIADO   \n",
      "11792  NUEVA E.P.S. AMBULATORIO SUBSIDIADO (2023-2024)   \n",
      "11793                                              NaN   \n",
      "11794                                              NaN   \n",
      "\n",
      "                        ATENCION                    PABELLON    CODIGO  \\\n",
      "0                    AMBULATORIO                         NaN  898102.0   \n",
      "1            CIRUGIA AMBULATORIA                         NaN  898801.0   \n",
      "2                  HOSPITALIZADO  CAMA MUJER URGENCIAS MEDQX  898002.0   \n",
      "3            CIRUGIA AMBULATORIA                         NaN  898101.0   \n",
      "4            CIRUGIA AMBULATORIA                         NaN  898241.0   \n",
      "...                          ...                         ...       ...   \n",
      "11790  TRATAMIENTOS AMBULATORIOS                         NaN  898101.0   \n",
      "11791                AMBULATORIO                         NaN  898101.0   \n",
      "11792  TRATAMIENTOS AMBULATORIOS                         NaN  898003.0   \n",
      "11793                        NaN                         NaN       NaN   \n",
      "11794                        NaN                         NaN       NaN   \n",
      "\n",
      "                                           PROCEDIMIENTO  \\\n",
      "0      ESTUDIO DE COLORACION HISTOQUIMICA EN BIOPSIA ...   \n",
      "1                                ESTUDIO POR CONGELACION   \n",
      "2      ESTUDIO DE COLORACION BASICA EN CITOLOGIA DE L...   \n",
      "3                ESTUDIO DE COLORACION BASICA EN BIOPSIA   \n",
      "4      ESTUDIO DE COLORACION BASICA EN ESPECIMEN CON ...   \n",
      "...                                                  ...   \n",
      "11790            ESTUDIO DE COLORACION BASICA EN BIOPSIA   \n",
      "11791            ESTUDIO DE COLORACION BASICA EN BIOPSIA   \n",
      "11792  ESTUDIO DE COLORACION BASICA EN CITOLOGIA POR ...   \n",
      "11793                                                NaN   \n",
      "11794                                                NaN   \n",
      "\n",
      "                          MEDICO ORDENA No. PATOLOGIA      FECHA RECEPCION  \\\n",
      "0                                  .  .        721-23  2023-01-01 16:20:00   \n",
      "1        BASTIDAS ANDRADE JHON FAUSTINO        012-23  2023-01-02 08:58:00   \n",
      "2            SUAREZ SILVA DANIEL FELIPE        001-23  2023-01-02 09:31:00   \n",
      "3          MORAN DELGADO FABIO FERNANDO        002-23  2023-01-02 09:35:00   \n",
      "4         ENRIQUEZ VARELA JORGE ALBERTO        024-23  2023-01-02 09:40:00   \n",
      "...                                 ...           ...                  ...   \n",
      "11790                              .  .       9437-23  2023-12-29 18:01:00   \n",
      "11791  BENAVIDES SOLARTE MARIO FERNANDO       9438-23  2023-12-29 18:04:00   \n",
      "11792                              .  .       9439-23  2023-12-29 18:08:00   \n",
      "11793                               NaN           NaN                  NaN   \n",
      "11794                               NaN           NaN                  NaN   \n",
      "\n",
      "           FECHA REALIZADO  DIAS  \\\n",
      "0      2023-02-08 16:20:00  38.0   \n",
      "1      2023-01-02 09:56:00   0.0   \n",
      "2      2023-01-12 09:38:00  10.0   \n",
      "3      2023-01-16 16:31:00  14.0   \n",
      "4      2023-01-19 09:40:00  17.0   \n",
      "...                    ...   ...   \n",
      "11790  2024-01-12 07:46:00  14.0   \n",
      "11791  2024-01-12 07:41:00  14.0   \n",
      "11792  2024-01-12 07:26:00  14.0   \n",
      "11793                  NaN   NaN   \n",
      "11794                  NaN   NaN   \n",
      "\n",
      "                                       DESCRIPCION MACRO  \\\n",
      "0      A: ROTULADO ANTRO, EN FORMOL SE RECIBEN 2 FRAG...   \n",
      "1      ROTULADO TUMOR DE PIEL REGION DORSAL EN FRESCO...   \n",
      "2      ROTULADO LIQUIDO ASCITICO SE RECIBEN 8 CC DE L...   \n",
      "3      A: ROTULADO MEJILLA DERECHA: EN FORMOL SE RECI...   \n",
      "4      ROTULADO TUMOR MALIGNO FRONTAL, EN FORMOL SE R...   \n",
      "...                                                  ...   \n",
      "11790  A: ROTULADO APICAL LATERAL DERECHA, EN FORMOL ...   \n",
      "11791  ROTULADO GLANDULA SALIVAL MENOR, EN FORMOL SE ...   \n",
      "11792  ROTULADO GANGLIO LINFATICO ZONA II LADO DERECH...   \n",
      "11793                                                NaN   \n",
      "11794                                                NaN   \n",
      "\n",
      "                                       DESCRIPCION MICRO  \\\n",
      "0      A: EN LAS PREPARACIONES ANALIZADAS SE IDENTIFI...   \n",
      "1      INFORME VERBAL INTRAOPERATORIO BIOPSIA POR CON...   \n",
      "2              FONDO DEL EXTENDIDO: HEMORRAGICO ACELULAR   \n",
      "3      A Y B: SE IDENTIFICA PIEL CON TUMOR BENIGNO DE...   \n",
      "4      SE IDENTIFICA PIEL CON LESION MELANOCITICA, CO...   \n",
      "...                                                  ...   \n",
      "11790  A, B, C, E, F, G, H, I, J: EN LA MUESTRA EXAMI...   \n",
      "11791  FRAGMENTOS QUE CORRESPONDEN A GLANDULA SALIVAL...   \n",
      "11792  FONDO DEL EXTENDIDO: BASOFILO HOMOGENEO\\nCELUL...   \n",
      "11793                                                NaN   \n",
      "11794                                                NaN   \n",
      "\n",
      "                                     DX HISTOPATOLOGICO   \n",
      "0      A: BIOPSIA GASTRICA ANTRAL:\\n-\\tGASTRITIS ANTR...  \n",
      "1      PIEL, REGION DORSAL, LESION RESECCION. LOCAL A...  \n",
      "2      LIQUIDO ASCITICO, PARACENTESIS. CITOLOGIA:\\n-\\...  \n",
      "3      A:  PIEL, MEJILLA DERECHA. LESION RESECCION:\\n...  \n",
      "4      PIEL, REGION NASAL, LESION RESECCION LOCAL AMP...  \n",
      "...                                                  ...  \n",
      "11790  A: PROSTATA, REGION APICAL LATERAL DERECHA, BI...  \n",
      "11791  GLANDULA SALIVAL MENOR, LESION BIOPSIA:\\n-\\tSÍ...  \n",
      "11792  GANGLIO LINFATICO CERVICAL ZONA II LADO DERECH...  \n",
      "11793                                                NaN  \n",
      "11794                                                NaN  \n",
      "\n",
      "[11795 rows x 19 columns]\n"
     ]
    }
   ],
   "source": [
    " #3. Extraer un archivo Excel/CSV/Parquet\n",
    "df_datos = extraer_archivo_minio(\n",
    "    minio_client=minio_client,\n",
    "    bucket_name=\"yachay-bronze\",\n",
    "    ruta_archivo=f\"laboratorios/{ruta_fecha}/laboratorio San Pedro/San Pedro.csv\",\n",
    "    tipo_archivo=\"csv\"\n",
    ")\n",
    "print(df_datos)  # Mostrar las primeras filas del DataFrame extraído"
   ]
  },
  {
   "cell_type": "code",
   "execution_count": null,
   "id": "ba38604c",
   "metadata": {},
   "outputs": [],
   "source": [
    "def transformar_df_lab_SanPedro(df_datos):\n",
    "    \"\"\"\n",
    "    Transforma un DataFrame del laboratorio Jimenes a la estructura de id_infolab\n",
    "    \n",
    "    Parámetros:\n",
    "    - df_datos: DataFrame con los campos originales del laboratorio\n",
    "    \n",
    "    Retorna:\n",
    "    - DataFrame transformado con la estructura deseada\n",
    "    \"\"\"\n",
    "    \n",
    "    # Crear copia para no modificar el original\n",
    "    df_transformado = df_datos.copy()\n",
    "    \n",
    "    # Eliminar espacios en los nombres de las columnas\n",
    "    df_transformado.columns = df_transformado.columns.str.strip()\n",
    "    \n",
    "    # Mapeo de campos\n",
    "    mapeo_campos = {\n",
    "        'FECHA REALIZADO': 'fecha_ingreso',\n",
    "        'FECHA RECEPCION': 'fecha_toma_muestra',\n",
    "        'EMPRESA': 'eps',\n",
    "        'MEDICO ORDENA': 'medico_ordenante',\n",
    "        'PROCEDIMIENTO': 'muestra_remitida',\n",
    "        'DESCRIPCION MACRO': 'descripcion_macroscopica',\n",
    "        'DESCRIPCION MICRO': 'descripcion_microscopica',\n",
    "        'DX HISTOPATOLOGICO': 'diagnostico',\n",
    "        'NOHISTORIA': 'identificacion',\n",
    "        'PACIENTE': 'nombre1',\n",
    "        'TIPO ID': 'tipo_de_identificacion',\n",
    "        'FECHA NACIMIENTO': 'fecha_nacimiento',\n",
    "        'SEXO': 'sexo',\n",
    "        'ATENCION':'servicio'\n",
    "    }\n",
    "    \n",
    "    # Renombrar columnas\n",
    "    df_transformado = df_transformado.rename(columns=mapeo_campos)\n",
    "    \n",
    "    # Crear campo id_paciente concatenando identificacion y tipo_de_identificacion\n",
    "    df_transformado['id_paciente'] = (\n",
    "        df_transformado['tipo_de_identificacion'].astype(str) + \n",
    "        df_transformado['identificacion'].astype(str)\n",
    "    )\n",
    "    \n",
    "    return df_transformado"
   ]
  },
  {
   "cell_type": "code",
   "execution_count": 20,
   "id": "3f741756",
   "metadata": {},
   "outputs": [],
   "source": [
    "def estandarizar_sexo(df):\n",
    "    \"\"\"\n",
    "    Versión simplificada que solo convierte:\n",
    "    - \"FEMENINO\" exacto a \"F\"\n",
    "    - \"MASCULINO\" exacto a \"M\"\n",
    "    \"\"\"\n",
    "    df_estandarizado = df.copy()\n",
    "    \n",
    "    if 'sexo' in df_estandarizado.columns:\n",
    "        df_estandarizado['sexo'] = df_estandarizado['sexo'].replace({\n",
    "            'FEMENINO': 'F',\n",
    "            'MASCULINO': 'M'\n",
    "        })\n",
    "    \n",
    "    return df_estandarizado"
   ]
  },
  {
   "cell_type": "code",
   "execution_count": 21,
   "id": "e6fa47b3",
   "metadata": {},
   "outputs": [
    {
     "name": "stdout",
     "output_type": "stream",
     "text": [
      "Index(['ADMISION', 'tipo_de_identificacion', 'identificacion', 'nombre1',\n",
      "       'fecha_nacimiento', 'sexo', 'entidad', 'ATENCION', 'PABELLON', 'CODIGO',\n",
      "       'muestra_remitida', 'servicio', 'No. PATOLOGIA', 'fecha_toma_muestra',\n",
      "       'fecha_ingreso', 'DIAS', 'descripcion_macroscopica',\n",
      "       'descripcion_microscopica', 'diagnostico', 'id_paciente', 'fuente',\n",
      "       'comentarios', 'observacion'],\n",
      "      dtype='object')\n",
      "  ADMISION tipo_de_identificacion identificacion  \\\n",
      "0  1285375                     CC       12865021   \n",
      "1  1274217                     CC        5256941   \n",
      "2  1274357                     CC       27093153   \n",
      "3  1273941                     CC       27387098   \n",
      "4  1274230                     CC       27079284   \n",
      "\n",
      "                            nombre1 fecha_nacimiento sexo  \\\n",
      "0         GOMEZ SALAS VICENTE RAMON       1953-04-05    M   \n",
      "1        ARTEAGA ROSERO JOSE MARINO       1944-11-14    M   \n",
      "2  DELGADO CABRERA ROMELIA TRINIDAD       1957-11-28    F   \n",
      "3  OBANDO ARTEAGA CENEIDA GUADALUPE       1960-08-05    F   \n",
      "4         BENAVIDES  LAURA VICTORIA       1943-02-04    F   \n",
      "\n",
      "                                 entidad             ATENCION  \\\n",
      "0  NUEVA E.P.S. CONTRIBUTIVO (2022-2023)          AMBULATORIO   \n",
      "1  EMSSANAR EPS SAS SUBSIDIADO 2023-2024  CIRUGIA AMBULATORIA   \n",
      "2  EMSSANAR EPS SAS SUBSIDIADO 2023-2024        HOSPITALIZADO   \n",
      "3  NUEVA E.P.S. CONTRIBUTIVO (2022-2023)  CIRUGIA AMBULATORIA   \n",
      "4  EMSSANAR EPS SAS SUBSIDIADO 2023-2024  CIRUGIA AMBULATORIA   \n",
      "\n",
      "                     PABELLON    CODIGO  ...   fecha_toma_muestra  \\\n",
      "0                         NaN  898102.0  ...  2023-01-01 16:20:00   \n",
      "1                         NaN  898801.0  ...  2023-01-02 08:58:00   \n",
      "2  CAMA MUJER URGENCIAS MEDQX  898002.0  ...  2023-01-02 09:31:00   \n",
      "3                         NaN  898101.0  ...  2023-01-02 09:35:00   \n",
      "4                         NaN  898241.0  ...  2023-01-02 09:40:00   \n",
      "\n",
      "         fecha_ingreso  DIAS  \\\n",
      "0  2023-02-08 16:20:00  38.0   \n",
      "1  2023-01-02 09:56:00   0.0   \n",
      "2  2023-01-12 09:38:00  10.0   \n",
      "3  2023-01-16 16:31:00  14.0   \n",
      "4  2023-01-19 09:40:00  17.0   \n",
      "\n",
      "                            descripcion_macroscopica  \\\n",
      "0  A: ROTULADO ANTRO, EN FORMOL SE RECIBEN 2 FRAG...   \n",
      "1  ROTULADO TUMOR DE PIEL REGION DORSAL EN FRESCO...   \n",
      "2  ROTULADO LIQUIDO ASCITICO SE RECIBEN 8 CC DE L...   \n",
      "3  A: ROTULADO MEJILLA DERECHA: EN FORMOL SE RECI...   \n",
      "4  ROTULADO TUMOR MALIGNO FRONTAL, EN FORMOL SE R...   \n",
      "\n",
      "                            descripcion_microscopica  \\\n",
      "0  A: EN LAS PREPARACIONES ANALIZADAS SE IDENTIFI...   \n",
      "1  INFORME VERBAL INTRAOPERATORIO BIOPSIA POR CON...   \n",
      "2          FONDO DEL EXTENDIDO: HEMORRAGICO ACELULAR   \n",
      "3  A Y B: SE IDENTIFICA PIEL CON TUMOR BENIGNO DE...   \n",
      "4  SE IDENTIFICA PIEL CON LESION MELANOCITICA, CO...   \n",
      "\n",
      "                                         diagnostico id_paciente fuente  \\\n",
      "0  A: BIOPSIA GASTRICA ANTRAL:\\n-\\tGASTRITIS ANTR...  CC12865021    002   \n",
      "1  PIEL, REGION DORSAL, LESION RESECCION. LOCAL A...   CC5256941    002   \n",
      "2  LIQUIDO ASCITICO, PARACENTESIS. CITOLOGIA:\\n-\\...  CC27093153    002   \n",
      "3  A:  PIEL, MEJILLA DERECHA. LESION RESECCION:\\n...  CC27387098    002   \n",
      "4  PIEL, REGION NASAL, LESION RESECCION LOCAL AMP...  CC27079284    002   \n",
      "\n",
      "  comentarios                                        observacion  \n",
      "0              COMENTARIOS: | DESCRIPCION_MICROSCOPICA: A: EN...  \n",
      "1              COMENTARIOS: | DESCRIPCION_MICROSCOPICA: INFOR...  \n",
      "2              COMENTARIOS: | DESCRIPCION_MICROSCOPICA: FONDO...  \n",
      "3              COMENTARIOS: | DESCRIPCION_MICROSCOPICA: A Y B...  \n",
      "4              COMENTARIOS: | DESCRIPCION_MICROSCOPICA: SE ID...  \n",
      "\n",
      "[5 rows x 23 columns]\n"
     ]
    }
   ],
   "source": [
    "df = transformar_df_lab_SanPedro(df_datos)\n",
    "df = estandarizar_sexo(df)\n",
    "df = agregar_fuente(df, '002')\n",
    "df = agregar_observacion(df)\n",
    "print(df.columns)\n",
    "print(df.head())  # Mostrar las columnas del DataFrame transformado"
   ]
  },
  {
   "cell_type": "code",
   "execution_count": 22,
   "id": "2606d520",
   "metadata": {},
   "outputs": [
    {
     "name": "stdout",
     "output_type": "stream",
     "text": [
      "Se insertaron 11795 filas en la tabla 'infolab'.\n"
     ]
    }
   ],
   "source": [
    "connection_params = {\n",
    "    'dbname': os.getenv(\"DB_NAME\"),\n",
    "    'user': os.getenv(\"DB_USER\"),\n",
    "    'password': os.getenv(\"DB_PASSWORD\"),\n",
    "    'host': os.getenv(\"DB_HOST\"),\n",
    "    'port':os.getenv(\"DB_PORT\")\n",
    "}\n",
    "insert_into_info_lab(df, connection_params)"
   ]
  },
  {
   "cell_type": "code",
   "execution_count": 23,
   "id": "a4dfa4f4",
   "metadata": {},
   "outputs": [
    {
     "name": "stdout",
     "output_type": "stream",
     "text": [
      "  identificacion                           nombre1 sexo id_paciente  \\\n",
      "0       12865021         GOMEZ SALAS VICENTE RAMON    M  CC12865021   \n",
      "1        5256941        ARTEAGA ROSERO JOSE MARINO    M   CC5256941   \n",
      "2       27093153  DELGADO CABRERA ROMELIA TRINIDAD    F  CC27093153   \n",
      "3       27387098  OBANDO ARTEAGA CENEIDA GUADALUPE    F  CC27387098   \n",
      "4       27079284         BENAVIDES  LAURA VICTORIA    F  CC27079284   \n",
      "\n",
      "  tipo_de_identificacion fecha_nacimiento  \n",
      "0                     CC       1953-04-05  \n",
      "1                     CC       1944-11-14  \n",
      "2                     CC       1957-11-28  \n",
      "3                     CC       1960-08-05  \n",
      "4                     CC       1943-02-04  \n"
     ]
    }
   ],
   "source": [
    "df_paciente = df[['identificacion', 'nombre1', 'sexo','id_paciente','tipo_de_identificacion', 'fecha_nacimiento']].copy()\n",
    "df_paciente = df_paciente.drop_duplicates(subset=['id_paciente'], keep='first')\n",
    "df_paciente['identificacion'] = df_paciente['identificacion'].astype(str).str.replace('.0', '', regex=False)\n",
    "print(df_paciente.head())  # Mostrar las columnas del DataFrame transformado"
   ]
  },
  {
   "cell_type": "code",
   "execution_count": 24,
   "id": "9fa44be7",
   "metadata": {},
   "outputs": [],
   "source": [
    "def renombrar_campos_paciente(df_paciente):\n",
    "    \"\"\"\n",
    "    Renombra los campos del DataFrame df_paciente a los nombres especificados.\n",
    "\n",
    "    Parámetros:\n",
    "    - df_paciente: DataFrame con los campos originales.\n",
    "\n",
    "    Retorna:\n",
    "    - DataFrame con los campos renombrados.\n",
    "    \"\"\"\n",
    "\n",
    "    \n",
    "    # Agregar columnas faltantes con valores nulos\n",
    "    columnas_faltantes = [\n",
    "        'nombre2', 'nombre3', 'apellido1', 'apellido2',\n",
    "        'fecha_nacimiento', 'municipio_residencia', 'codigo_residencia',\n",
    "        'barrio_residencia', 'direccion', 'edad', 'telefono'\n",
    "    ]\n",
    "    for columna in columnas_faltantes:\n",
    "        if columna not in df_paciente.columns:\n",
    "            df_paciente[columna] = None\n",
    "    \n",
    "    return df_paciente"
   ]
  },
  {
   "cell_type": "code",
   "execution_count": 25,
   "id": "f33a5d2a",
   "metadata": {},
   "outputs": [
    {
     "name": "stdout",
     "output_type": "stream",
     "text": [
      "  identificacion                           nombre1 sexo id_paciente  \\\n",
      "0       12865021         GOMEZ SALAS VICENTE RAMON    M  CC12865021   \n",
      "1        5256941        ARTEAGA ROSERO JOSE MARINO    M   CC5256941   \n",
      "2       27093153  DELGADO CABRERA ROMELIA TRINIDAD    F  CC27093153   \n",
      "3       27387098  OBANDO ARTEAGA CENEIDA GUADALUPE    F  CC27387098   \n",
      "4       27079284         BENAVIDES  LAURA VICTORIA    F  CC27079284   \n",
      "\n",
      "  tipo_de_identificacion fecha_nacimiento nombre2 nombre3 apellido1 apellido2  \\\n",
      "0                     CC       1953-04-05    None    None      None      None   \n",
      "1                     CC       1944-11-14    None    None      None      None   \n",
      "2                     CC       1957-11-28    None    None      None      None   \n",
      "3                     CC       1960-08-05    None    None      None      None   \n",
      "4                     CC       1943-02-04    None    None      None      None   \n",
      "\n",
      "  municipio_residencia codigo_residencia barrio_residencia direccion  edad  \\\n",
      "0                 None              None              None      None  None   \n",
      "1                 None              None              None      None  None   \n",
      "2                 None              None              None      None  None   \n",
      "3                 None              None              None      None  None   \n",
      "4                 None              None              None      None  None   \n",
      "\n",
      "  telefono  \n",
      "0     None  \n",
      "1     None  \n",
      "2     None  \n",
      "3     None  \n",
      "4     None  \n"
     ]
    }
   ],
   "source": [
    "df_paciente_renombrado = renombrar_campos_paciente(df_paciente)\n",
    "print(df_paciente_renombrado.head())"
   ]
  },
  {
   "cell_type": "code",
   "execution_count": 26,
   "id": "f6ffe674",
   "metadata": {},
   "outputs": [
    {
     "name": "stdout",
     "output_type": "stream",
     "text": [
      "Insertados 1 registros nuevos en paciente.\n"
     ]
    },
    {
     "data": {
      "text/plain": [
       "(True, 1)"
      ]
     },
     "execution_count": 26,
     "metadata": {},
     "output_type": "execute_result"
    }
   ],
   "source": [
    "cargar_dfpaciente(df_paciente_renombrado,'paciente', connection_params)"
   ]
  }
 ],
 "metadata": {
  "kernelspec": {
   "display_name": "Python (myenv)",
   "language": "python",
   "name": "myenv"
  },
  "language_info": {
   "codemirror_mode": {
    "name": "ipython",
    "version": 3
   },
   "file_extension": ".py",
   "mimetype": "text/x-python",
   "name": "python",
   "nbconvert_exporter": "python",
   "pygments_lexer": "ipython3",
   "version": "3.12.3"
  }
 },
 "nbformat": 4,
 "nbformat_minor": 5
}
