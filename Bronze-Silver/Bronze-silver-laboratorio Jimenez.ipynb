{
 "cells": [
  {
   "cell_type": "code",
   "execution_count": 11,
   "id": "923264d5",
   "metadata": {},
   "outputs": [],
   "source": [
    "from minio.error import S3Error\n",
    "import fitz  # PyMuPDF\n",
    "from datetime import datetime\n",
    "from io import BytesIO\n",
    "import pandas as pd\n",
    "import re\n",
    "import psycopg2\n",
    "import import_ipynb\n",
    "from Utils import conectar_minio,transformar_df_lab_Jimenez, generar_ruta_fecha,extraer_archivo_minio, insert_into_info_lab, cargar_dfpaciente, agregar_fuente, agregar_observacion\n",
    "import os\n",
    "from dotenv import load_dotenv"
   ]
  },
  {
   "cell_type": "code",
   "execution_count": 12,
   "id": "a7af760b",
   "metadata": {},
   "outputs": [
    {
     "data": {
      "text/plain": [
       "True"
      ]
     },
     "execution_count": 12,
     "metadata": {},
     "output_type": "execute_result"
    }
   ],
   "source": [
    "# Cargar variables del archivo .env\n",
    "load_dotenv()"
   ]
  },
  {
   "cell_type": "code",
   "execution_count": 13,
   "id": "8690856d",
   "metadata": {},
   "outputs": [
    {
     "name": "stdout",
     "output_type": "stream",
     "text": [
      "Conexión exitosa a MinIO en localhost:9000\n",
      "Buckets disponibles: ['yachay', 'yachay-bronze', 'yachay-landing']\n"
     ]
    }
   ],
   "source": [
    "minio_client = conectar_minio(\n",
    "    endpoint=os.getenv(\"MINIO_ENDPOINT\"),\n",
    "    access_key=os.getenv(\"MINIO_ACCESS_KEY\"),\n",
    "    secret_key=os.getenv(\"MINIO_SECRET_KEY\"),\n",
    "    secure=False  # Usar HTTPS\n",
    ")"
   ]
  },
  {
   "cell_type": "code",
   "execution_count": 14,
   "id": "66b10e85",
   "metadata": {},
   "outputs": [],
   "source": [
    "ruta_fecha = generar_ruta_fecha()  "
   ]
  },
  {
   "cell_type": "code",
   "execution_count": 15,
   "id": "11a2318c",
   "metadata": {},
   "outputs": [],
   "source": [
    "import pandas as pd\n",
    "\n",
    "def procesar_laboratorios_jimenes(minio_client, ruta_fecha, connection_params):\n",
    "    \"\"\"\n",
    "    Procesa y carga datos de los laboratorios Jimenes Ipiales y Pasto desde MinIO a PostgreSQL\n",
    "    y devuelve un único DataFrame unificado.\n",
    "    \"\"\"\n",
    "    \n",
    "    # 1. Configuración de rutas para ambos laboratorios\n",
    "    config_laboratorios = {\n",
    "        \"Ipiales\": {\n",
    "            \"bucket\": \"yachay-bronze\",\n",
    "            \"ruta\": f\"laboratorios/{ruta_fecha}/laboratorio Jimenes Ipiales/laboratorio_jimenes_ipiales.csv\",\n",
    "            \"tipo_archivo\": \"csv\"\n",
    "        },\n",
    "        \"Pasto\": {\n",
    "            \"bucket\": \"yachay-bronze\",\n",
    "            \"ruta\": f\"laboratorios/{ruta_fecha}/laboratorio Jimenez Pasto/laboratorio_jimenes_pasto.csv\",\n",
    "            \"tipo_archivo\": \"csv\"\n",
    "        }\n",
    "    }\n",
    "    \n",
    "    # 2. Lista para guardar todos los DataFrames transformados\n",
    "    lista_df = []\n",
    "    \n",
    "    # 3. Procesamiento para cada laboratorio\n",
    "    for lab_name, config in config_laboratorios.items():\n",
    "        try:\n",
    "            print(f\"\\nProcesando Laboratorio Jimenes {lab_name}...\")\n",
    "            \n",
    "            # Extraer archivo\n",
    "            print(f\"Extrayendo archivo: {config['ruta']}\")\n",
    "            df_datos = extraer_archivo_minio(\n",
    "                minio_client=minio_client,\n",
    "                bucket_name=config[\"bucket\"],\n",
    "                ruta_archivo=config[\"ruta\"],\n",
    "                tipo_archivo=config[\"tipo_archivo\"]\n",
    "            )\n",
    "            \n",
    "            # Transformar datos\n",
    "            print(\"Transformando datos...\")\n",
    "            df_transformado = transformar_df_lab_Jimenez(df_datos)\n",
    "            #print(df_transformado.head())  # Mostrar las primeras filas\n",
    "            \n",
    "            # Insertar en PostgreSQL\n",
    "            print(\"Insertando en base de datos...\")\n",
    "            insert_into_info_lab(df_transformado, connection_params)\n",
    "            \n",
    "            # Guardar DataFrame en lista\n",
    "            lista_df.append(df_transformado)\n",
    "            \n",
    "            print(f\"Laboratorio Jimenes {lab_name} procesado con éxito!\")\n",
    "            \n",
    "        except Exception as e:\n",
    "            print(f\"\\nError procesando Laboratorio Jimenes {lab_name}:\")\n",
    "            print(str(e))\n",
    "            continue\n",
    "\n",
    "    # 4. Unificar todos los DataFrames en uno solo\n",
    "    if lista_df:\n",
    "        df_unificado = pd.concat(lista_df, ignore_index=True)\n",
    "        print(\"\\nTodos los laboratorios procesados y unificados!\")\n",
    "        return df_unificado\n",
    "    else:\n",
    "        print(\"\\nNo se pudo procesar ningún laboratorio.\")\n",
    "        return pd.DataFrame()  # Retorna DataFrame vacío si fallaron todos\n"
   ]
  },
  {
   "cell_type": "code",
   "execution_count": 16,
   "id": "84211dae",
   "metadata": {},
   "outputs": [],
   "source": [
    "connection_params = {\n",
    "    'dbname': os.getenv(\"DB_NAME\"),\n",
    "    'user': os.getenv(\"DB_USER\"),\n",
    "    'password': os.getenv(\"DB_PASSWORD\"),\n",
    "    'host': os.getenv(\"DB_HOST\"),\n",
    "    'port':os.getenv(\"DB_PORT\")\n",
    "}"
   ]
  },
  {
   "cell_type": "code",
   "execution_count": null,
   "id": "9937032f",
   "metadata": {},
   "outputs": [
    {
     "name": "stdout",
     "output_type": "stream",
     "text": [
      "\n",
      "Procesando Laboratorio Jimenes Ipiales...\n",
      "Extrayendo archivo: laboratorios/2025/06/02/laboratorio Jimenes Ipiales/laboratorio_jimenes_ipiales.csv\n",
      "Transformando datos...\n",
      "Insertando en base de datos...\n",
      "Se insertaron 5 filas en la tabla 'infolab'.\n",
      "Laboratorio Jimenes Ipiales procesado con éxito!\n",
      "\n",
      "Procesando Laboratorio Jimenes Pasto...\n",
      "Extrayendo archivo: laboratorios/2025/06/02/laboratorio Jimenez Pasto/laboratorio_jimenes_pasto.csv\n",
      "Transformando datos...\n",
      "Insertando en base de datos...\n",
      "Se insertaron 5 filas en la tabla 'infolab'.\n",
      "Laboratorio Jimenes Pasto procesado con éxito!\n",
      "\n",
      "Todos los laboratorios procesados y unificados!\n"
     ]
    }
   ],
   "source": [
    "df_unificado = procesar_laboratorios_jimenes(minio_client, ruta_fecha, connection_params)\n",
    "df_unificado = agregar_observacion(df_unificado)"
   ]
  },
  {
   "cell_type": "code",
   "execution_count": 18,
   "id": "b90b86ef",
   "metadata": {},
   "outputs": [
    {
     "name": "stdout",
     "output_type": "stream",
     "text": [
      "Index(['archivo', 'Ruta Completa', 'Numero de Informe', 'Nombre del Paciente',\n",
      "       'id_paciente', 'Edad', 'Telefono', 'fecha_toma_muestra',\n",
      "       'fecha_ingreso', 'fecha_informe', 'entidad', 'eps', 'servicio',\n",
      "       'muestra_remitida', 'descripcion_macroscopica',\n",
      "       'descripcion_microscopica', 'diagnostico', 'comentario',\n",
      "       'TipoIdentificacion', 'NumeroIdentificacion', 'fuente', 'comentarios',\n",
      "       'observacion'],\n",
      "      dtype='object')\n"
     ]
    }
   ],
   "source": [
    "print(df_unificado.columns)"
   ]
  },
  {
   "cell_type": "code",
   "execution_count": 19,
   "id": "67d4f183",
   "metadata": {},
   "outputs": [
    {
     "name": "stdout",
     "output_type": "stream",
     "text": [
      "                           nombre1 tipo_de_identificacion identificacion  \\\n",
      "0     GRACIELA ESTHER LOZA ALVAREZ                     CC       27355204   \n",
      "1    YULI VIVIANA CALPA ARCINIEGAS                     CC     1085915998   \n",
      "2    DANY PAOLA CHACUA PUERCHAMBUD                     CC     1085945182   \n",
      "3     STELLA ISAURA YANDUN PANTOJA                     CC       37120149   \n",
      "4  SANDRA VIVIANA CHAMORRO ESCOBAR                     CC     1085918055   \n",
      "\n",
      "   edad   id_paciente  \n",
      "0  59.0    CC27355204  \n",
      "1  33.0  CC1085915998  \n",
      "2  25.0  CC1085945182  \n",
      "3  44.0    CC37120149  \n",
      "4  32.0  CC1085918055  \n"
     ]
    }
   ],
   "source": [
    "# Crear el DataFrame df_pacientes con las columnas renombradas\n",
    "df_pacientes = df_unificado[['Nombre del Paciente', 'TipoIdentificacion', 'NumeroIdentificacion', 'Edad', 'id_paciente']].copy()\n",
    "\n",
    "# Renombrar las columnas\n",
    "df_pacientes = df_pacientes.rename(columns={\n",
    "    'Nombre del Paciente': 'nombre1',\n",
    "    'TipoIdentificacion': 'tipo_de_identificacion',\n",
    "    'NumeroIdentificacion': 'identificacion',\n",
    "    'Edad': 'edad',\n",
    "    'id_paciente': 'id_paciente'\n",
    "})\n",
    "\n",
    "df_pacientes = df_pacientes.drop_duplicates(subset=['id_paciente'], keep='first')\n",
    "\n",
    "print(df_pacientes.head())"
   ]
  },
  {
   "cell_type": "code",
   "execution_count": 20,
   "id": "96517ebb",
   "metadata": {},
   "outputs": [
    {
     "name": "stdout",
     "output_type": "stream",
     "text": [
      "Insertados 0 registros nuevos en paciente.\n"
     ]
    },
    {
     "data": {
      "text/plain": [
       "(True, 0)"
      ]
     },
     "execution_count": 20,
     "metadata": {},
     "output_type": "execute_result"
    }
   ],
   "source": [
    "cargar_dfpaciente(df_pacientes,'paciente', connection_params)"
   ]
  }
 ],
 "metadata": {
  "kernelspec": {
   "display_name": "Python (myenv)",
   "language": "python",
   "name": "myenv"
  },
  "language_info": {
   "codemirror_mode": {
    "name": "ipython",
    "version": 3
   },
   "file_extension": ".py",
   "mimetype": "text/x-python",
   "name": "python",
   "nbconvert_exporter": "python",
   "pygments_lexer": "ipython3",
   "version": "3.12.3"
  }
 },
 "nbformat": 4,
 "nbformat_minor": 5
}
