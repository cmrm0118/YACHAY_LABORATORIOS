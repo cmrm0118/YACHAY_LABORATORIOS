{
 "cells": [
  {
   "cell_type": "code",
   "execution_count": null,
   "metadata": {},
   "outputs": [],
   "source": [
    "import psycopg2\n",
    "import import_ipynb\n",
    "from Utils import *\n",
    "import os\n",
    "from dotenv import load_dotenv\n",
    "\n",
    "# Cargar variables del archivo .env\n",
    "load_dotenv()\n",
    "\n",
    "connection_params = {\n",
    "    'dbname': os.getenv(\"DB_NAME\"),\n",
    "    'user': os.getenv(\"DB_USER\"),\n",
    "    'password': os.getenv(\"DB_PASSWORD\"),\n",
    "    'host': os.getenv(\"DB_HOST\"),\n",
    "    'port': os.getenv(\"DB_PORT\")\n",
    "}\n",
    "\n",
    "print(\"Parámetros de conexión cargados.\")"
   ]
  },
  {
   "cell_type": "code",
   "execution_count": null,
   "metadata": {},
   "outputs": [],
   "source": [
    "# Conectar a la base de datos\n",
    "try:\n",
    "    conn = psycopg2.connect(**connection_params)\n",
    "    cur = conn.cursor()\n",
    "    print(\"Conexión a la base de datos exitosa.\")\n",
    "except Exception as e:\n",
    "    print(f\"Error al conectar a la base de datos: {e}\")\n",
    "    raise"
   ]
  },
  {
   "cell_type": "code",
   "execution_count": null,
   "metadata": {},
   "outputs": [],
   "source": [
    "# Transferir datos únicos a paciente_curated (con actualización si existe)\n",
    "try:\n",
    "    cur.execute(\"\"\"\n",
    "    INSERT INTO paciente_curated (nombre1, nombre2, nombre3, apellido1, apellido2, tipo_de_identificacion, identificacion, sexo, fecha_nacimiento, edad, municipio_residencia, codigo_residencia, barrio_residencia, direccion, id_paciente, etiqueta, fecha_ingreso_sistema)\n",
    "    SELECT DISTINCT nombre1, nombre2, nombre3, apellido1, apellido2, tipo_de_identificacion, identificacion, sexo, fecha_nacimiento, edad, municipio_residencia, codigo_residencia, barrio_residencia, direccion, id_paciente, etiqueta, fecha_ingreso_sistema\n",
    "    FROM paciente\n",
    "    ON CONFLICT (id_paciente) DO UPDATE SET\n",
    "        nombre1 = EXCLUDED.nombre1,\n",
    "        nombre2 = EXCLUDED.nombre2,\n",
    "        nombre3 = EXCLUDED.nombre3,\n",
    "        apellido1 = EXCLUDED.apellido1,\n",
    "        apellido2 = EXCLUDED.apellido2,\n",
    "        tipo_de_identificacion = EXCLUDED.tipo_de_identificacion,\n",
    "        identificacion = EXCLUDED.identificacion,\n",
    "        sexo = EXCLUDED.sexo,\n",
    "        fecha_nacimiento = EXCLUDED.fecha_nacimiento,\n",
    "        edad = EXCLUDED.edad,\n",
    "        municipio_residencia = EXCLUDED.municipio_residencia,\n",
    "        codigo_residencia = EXCLUDED.codigo_residencia,\n",
    "        barrio_residencia = EXCLUDED.barrio_residencia,\n",
    "        direccion = EXCLUDED.direccion,\n",
    "        etiqueta = EXCLUDED.etiqueta,\n",
    "        fecha_ingreso_sistema = EXCLUDED.fecha_ingreso_sistema;\n",
    "    \"\"\")\n",
    "    pacientes_insertados = cur.rowcount\n",
    "    print(f\"Pacientes insertados/actualizados en paciente_curated: {pacientes_insertados}\")\n",
    "except Exception as e:\n",
    "    print(f\"Error al transferir pacientes: {e}\")\n",
    "    conn.rollback()\n",
    "    raise"
   ]
  },
  {
   "cell_type": "code",
   "execution_count": null,
   "metadata": {},
   "outputs": [],
   "source": [
    "# Transferir datos únicos a infolab_curated, relacionando con paciente_curated\n",
    "try:\n",
    "    cur.execute(\"\"\"\n",
    "    INSERT INTO infolab_curated (fecha_toma_muestra, fecha_ingreso, fecha_informe, entidad, eps, servicio, muestra_remitida, descripcion_macroscopica, descripcion_microscopica, diagnostico, comentario, id_paciente, archivo, fuente, cie10, edad, sexo, diagnostico_clinico, observacion, medico_ordenante, medico_remitente)\n",
    "    SELECT DISTINCT i.fecha_toma_muestra, i.fecha_ingreso, i.fecha_informe, i.entidad, i.eps, i.servicio, i.muestra_remitida, i.descripcion_macroscopica, i.descripcion_microscopica, i.diagnostico, i.comentario, i.id_paciente, i.archivo, i.fuente, i.cie10, i.edad, i.sexo, i.diagnostico_clinico, i.observacion, i.medico_ordenante, i.medico_remitente\n",
    "    FROM infolab i\n",
    "    INNER JOIN paciente_curated p ON i.id_paciente = p.id_paciente\n",
    "    WHERE NOT EXISTS (\n",
    "        SELECT 1 FROM infolab_curated ic\n",
    "        WHERE ic.id_paciente = i.id_paciente\n",
    "          AND ic.servicio = i.servicio\n",
    "          AND ic.muestra_remitida = i.muestra_remitida\n",
    "          AND ic.descripcion_macroscopica = i.descripcion_macroscopica\n",
    "          AND ic.descripcion_microscopica = i.descripcion_microscopica\n",
    "          AND ic.observacion = i.observacion\n",
    "    );\n",
    "    \"\"\")\n",
    "    infolab_insertados = cur.rowcount\n",
    "    print(f\"Registros insertados en infolab_curated: {infolab_insertados}\")\n",
    "except Exception as e:\n",
    "    print(f\"Error al transferir infolab: {e}\")\n",
    "    conn.rollback()\n",
    "    raise"
   ]
  },
  {
   "cell_type": "code",
   "execution_count": null,
   "metadata": {},
   "outputs": [],
   "source": [
    "# Confirmar cambios y cerrar conexión\n",
    "try:\n",
    "    conn.commit()\n",
    "    print(\"Transferencia completada exitosamente.\")\n",
    "except Exception as e:\n",
    "    print(f\"Error al confirmar cambios: {e}\")\n",
    "    conn.rollback()\n",
    "    raise\n",
    "finally:\n",
    "    cur.close()\n",
    "    conn.close()\n",
    "    print(\"Conexión cerrada.\")"
   ]
  }
 ],
 "metadata": {
  "kernelspec": {
   "display_name": "Python 3",
   "language": "python",
   "name": "python3"
  },
  "language_info": {
   "codemirror_mode": {
    "name": "ipython",
    "version": 3
   },
   "file_extension": ".py",
   "mimetype": "text/x-python",
   "name": "python",
   "nbconvert_exporter": "python",
   "pygments_lexer": "ipython3",
   "version": "3.8.5"
  }
 },
 "nbformat": 4,
 "nbformat_minor": 4
}
