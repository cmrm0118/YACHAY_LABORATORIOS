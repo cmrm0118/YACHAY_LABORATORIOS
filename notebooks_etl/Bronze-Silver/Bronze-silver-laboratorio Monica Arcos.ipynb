{
 "cells": [
  {
   "cell_type": "code",
   "execution_count": 16,
   "id": "3b15da30",
   "metadata": {},
   "outputs": [],
   "source": [
    "from minio.error import S3Error\n",
    "import fitz  # PyMuPDF\n",
    "from datetime import datetime\n",
    "from io import BytesIO\n",
    "import pandas as pd\n",
    "import re\n",
    "import psycopg2\n",
    "import import_ipynb\n",
    "from Utils import conectar_minio,cargar_dfpaciente, generar_ruta_fecha,extraer_archivo_minio, insert_into_info_lab, agregar_fuente, agregar_observacion\n",
    "import os\n",
    "from dotenv import load_dotenv"
   ]
  },
  {
   "cell_type": "code",
   "execution_count": 17,
   "id": "f099cfd5",
   "metadata": {},
   "outputs": [
    {
     "data": {
      "text/plain": [
       "True"
      ]
     },
     "execution_count": 17,
     "metadata": {},
     "output_type": "execute_result"
    }
   ],
   "source": [
    "# Cargar variables del archivo .env\n",
    "load_dotenv()"
   ]
  },
  {
   "cell_type": "code",
   "execution_count": 18,
   "id": "9f31c313",
   "metadata": {},
   "outputs": [
    {
     "name": "stdout",
     "output_type": "stream",
     "text": [
      "Conexión exitosa a MinIO en localhost:9000\n",
      "Buckets disponibles: ['yachay', 'yachay-bronze', 'yachay-landing']\n"
     ]
    }
   ],
   "source": [
    "minio_client = conectar_minio(\n",
    "    endpoint=os.getenv(\"MINIO_ENDPOINT\"),\n",
    "    access_key=os.getenv(\"MINIO_ACCESS_KEY\"),\n",
    "    secret_key=os.getenv(\"MINIO_SECRET_KEY\"),\n",
    "    secure=False  # Usar HTTPS\n",
    ")"
   ]
  },
  {
   "cell_type": "code",
   "execution_count": 19,
   "id": "88d3a1ea",
   "metadata": {},
   "outputs": [],
   "source": [
    "ruta_fecha = generar_ruta_fecha() "
   ]
  },
  {
   "cell_type": "code",
   "execution_count": 20,
   "id": "4be1df6b",
   "metadata": {},
   "outputs": [
    {
     "name": "stdout",
     "output_type": "stream",
     "text": [
      "        No   No Placa         Institución Administradora  \\\n",
      "0        1  2228327.0                   EMSSANAR EPS SAS   \n",
      "1        2  2228328.0                   EMSSANAR EPS SAS   \n",
      "2        3  2228412.0                   EMSSANAR EPS SAS   \n",
      "3        4  2228413.0                   EMSSANAR EPS SAS   \n",
      "4        5  2228414.0                   EMSSANAR EPS SAS   \n",
      "...    ...        ...                                ...   \n",
      "7127  7717  2327725.0  IPS CLINICA MARIANA TUQUERRES SAS   \n",
      "7128  7718  2327726.0  IPS CLINICA MARIANA TUQUERRES SAS   \n",
      "7129  7719  2327727.0  IPS CLINICA MARIANA TUQUERRES SAS   \n",
      "7130  7720  2327728.0  IPS CLINICA MARIANA TUQUERRES SAS   \n",
      "7131  7721  2327729.0  IPS CLINICA MARIANA TUQUERRES SAS   \n",
      "\n",
      "                                   Institución Toma    Id Usuario  \\\n",
      "0                               RADIOLOGICO DEL SUR  CC1004631616   \n",
      "1                                    HOSPITAL CIVIL    CC19371592   \n",
      "2     IPS GASTROCENTER Y ESPECIALIDADES MEDICAS SAS    CC27388932   \n",
      "3     IPS GASTROCENTER Y ESPECIALIDADES MEDICAS SAS     CC5212496   \n",
      "4     IPS GASTROCENTER Y ESPECIALIDADES MEDICAS SAS     CC1809960   \n",
      "...                                             ...           ...   \n",
      "7127              IPS CLINICA MARIANA TUQUERRES SAS    CC13064364   \n",
      "7128              IPS CLINICA MARIANA TUQUERRES SAS    CC98356330   \n",
      "7129              IPS CLINICA MARIANA TUQUERRES SAS    CC27531772   \n",
      "7130              IPS CLINICA MARIANA TUQUERRES SAS    CC27534286   \n",
      "7131              IPS CLINICA MARIANA TUQUERRES SAS    CC27455784   \n",
      "\n",
      "                       Nombres Afiliado     Edad  \\\n",
      "0            REINA BASANTE ALEX ROLANDO  24 Años   \n",
      "1     ROSERO QUINGALAGUA HENRY MARCIANO  65 Años   \n",
      "2              LOPEZ BRAVO DEISY ESTELA  39 Años   \n",
      "3               LOPEZ AGUIRRE JULIO NEL  55 Años   \n",
      "4      VALENCIA QUITIAQUEZ JOSE CLIMACO  69 Años   \n",
      "...                                 ...      ...   \n",
      "7127        ESTRADA MOLINA PABLO ARTURO  55 Años   \n",
      "7128              CORDOBA  JORGE EFRAIN  58 Años   \n",
      "7129    RIVERA RODRIGUEZ MARIA FLORINDA  72 Años   \n",
      "7130     ANAMA CUASPUD MARIA DEL CARMEN  62 Años   \n",
      "7131           IPIALES  CUSTODIA AMALIA  56 Años   \n",
      "\n",
      "                         Muestra de Fecha Recibido Fecha Resultado  \\\n",
      "0           MASA DE TEJIDOS BLANDOS     2022-12-12      2022-12-27   \n",
      "1                    QUISTE SEBACEO     2022-12-12      2022-12-27   \n",
      "2                  BIOPSIA GASTRICA     2022-12-14      2022-12-28   \n",
      "3     BX GASTRICA DE ANTRO Y CUERPO     2022-12-14      2022-12-28   \n",
      "4     BX GASTRICA DE ANTRO Y CUERPO     2022-12-14      2022-12-28   \n",
      "...                             ...            ...             ...   \n",
      "7127               BIOPSIA GASTRICA     2023-12-28      2024-01-13   \n",
      "7128               BIOPSIA GASTRICA     2023-12-28      2024-01-13   \n",
      "7129               BIOPSIA GASTRICA     2023-12-28      2024-01-13   \n",
      "7130               BIOPSIA GASTRICA     2023-12-28             NaN   \n",
      "7131               BIOPSIA GASTRICA     2023-12-28      2024-01-13   \n",
      "\n",
      "                                     Dx Histopatológico  \n",
      "0     REGION SACROLUMBAR IZQUIERDA. Masa. Resección:...  \n",
      "1     Piel de parte no especifica. Lesión. Resección...  \n",
      "2     Mucosa gástrica de antro y cuerpo. Biopsia end...  \n",
      "3     A: Mucosa gástrica de antro. Biopsia endoscópi...  \n",
      "4     A: Mucosa gástrica de antro. Biopsia endoscópi...  \n",
      "...                                                 ...  \n",
      "7127  ESTOMAGO  – MUCOSA DE CUERPO – ENDOSCOPIA – BI...  \n",
      "7128  MUCOSA DE CUERPO GASTRICO – ENDOSCOPIA – BIOPS...  \n",
      "7129  ESTOMAGO – MUCOSA DE ANTRO E INCISURA ANGULARI...  \n",
      "7130    ESTOMAGO  – MUCOSA DE CUERPO – ENDOSCOPIA – ...  \n",
      "7131  ESTOMAGO  – MUCOSA DE CUERPO Y ANTRO  – ENDOSC...  \n",
      "\n",
      "[7132 rows x 11 columns]\n"
     ]
    }
   ],
   "source": [
    " #3. Extraer un archivo Excel/CSV/Parquet\n",
    "df_datos = extraer_archivo_minio(\n",
    "    minio_client=minio_client,\n",
    "    bucket_name=\"yachay-bronze\",\n",
    "    ruta_archivo=f\"laboratorios/{ruta_fecha}/laboratorio Monica Arcos/Monica Arcos.csv\",\n",
    "    tipo_archivo=\"csv\"\n",
    ")\n",
    "print(df_datos)  # Mostrar las primeras filas del DataFrame extraído"
   ]
  },
  {
   "cell_type": "code",
   "execution_count": 21,
   "id": "afa59dee",
   "metadata": {},
   "outputs": [],
   "source": [
    "def transformar_df_lab_Monica(df_datos):\n",
    "    \"\"\"\n",
    "    Transforma un DataFrame del laboratorio Mónica a la estructura de id_infolab\n",
    "    \n",
    "    Parámetros:\n",
    "    - df_datos: DataFrame con los campos originales del laboratorio\n",
    "    \n",
    "    Retorna:\n",
    "    - DataFrame transformado con la estructura deseada\n",
    "    \"\"\"\n",
    "    \n",
    "    # Crear copia para no modificar el original\n",
    "    df_transformado = df_datos.copy()\n",
    "    \n",
    "    # Mapeo de campos\n",
    "    mapeo_campos = {\n",
    "        'Fecha Recibido': 'fecha_ingreso',\n",
    "        'Fecha Resultado': 'fecha_informe',\n",
    "        'Institución Administradora': 'eps',\n",
    "        'Institución Toma': 'entidad',\n",
    "        'Muestra de': 'comentario',\n",
    "        'Dx Histopatológico': 'diagnostico',\n",
    "        'Id Usuario': 'id_paciente',\n",
    "        'Nombres Afiliado': 'Nombre del Paciente',\n",
    "        'Edad': 'edad',\n",
    "        'No': 'fuente'  # Usamos el número como fuente temporal\n",
    "    }\n",
    "    \n",
    "    # Renombrar columnas\n",
    "    df_transformado = df_transformado.rename(columns=mapeo_campos)\n",
    "    \n",
    "    # Campos que no tienen equivalente directo\n",
    "    df_transformado['fecha_toma_muestra'] = None\n",
    "    df_transformado['servicio'] = None\n",
    "    df_transformado['descripcion_macroscopica'] = None\n",
    "    df_transformado['descripcion_microscopica'] = None\n",
    "    df_transformado['cie10'] = None\n",
    "    df_transformado['sexo'] = None\n",
    "    df_transformado['diagnostico_clinico'] = None\n",
    "    \n",
    "    # Formatear campo fuente\n",
    "    #df_transformado['fuente'] = 'Laboratorio Mónica Arcos'\n",
    "    \n",
    "    return df_transformado"
   ]
  },
  {
   "cell_type": "code",
   "execution_count": 22,
   "id": "ba205e63",
   "metadata": {},
   "outputs": [],
   "source": [
    "import pandas as pd\n",
    "\n",
    "def eliminar_palabra_anios(df, nombre_columna):\n",
    "    \"\"\"\n",
    "    Elimina la palabra 'años' de los valores en una columna específica\n",
    "    \n",
    "    Parámetros:\n",
    "    - df: DataFrame de pandas\n",
    "    - nombre_columna: Nombre de la columna a modificar (debe ser string)\n",
    "    \n",
    "    Retorna:\n",
    "    - DataFrame con la columna modificada\n",
    "    \"\"\"\n",
    "    # Verificar si la columna existe\n",
    "    if nombre_columna not in df.columns:\n",
    "        raise ValueError(f\"La columna '{nombre_columna}' no existe en el DataFrame\")\n",
    "    \n",
    "    # Hacer copia para no modificar el original\n",
    "    df_modificado = df.copy()\n",
    "    \n",
    "    # Eliminar 'años' (case insensitive) y espacios extra\n",
    "    df_modificado[nombre_columna] = df_modificado[nombre_columna].astype(str).str.replace(\n",
    "        r'años|\\s+', \n",
    "        '', \n",
    "        case=False, \n",
    "        regex=True\n",
    "    )\n",
    "    \n",
    "    # Convertir a numérico si es posible\n",
    "    try:\n",
    "        df_modificado[nombre_columna] = pd.to_numeric(df_modificado[nombre_columna])\n",
    "    except ValueError:\n",
    "        pass  # Mantener como string si no se puede convertir\n",
    "    \n",
    "    return df_modificado"
   ]
  },
  {
   "cell_type": "code",
   "execution_count": 23,
   "id": "ed2e4273",
   "metadata": {},
   "outputs": [],
   "source": [
    "df_datos_transformado = transformar_df_lab_Monica(df_datos)\n"
   ]
  },
  {
   "cell_type": "code",
   "execution_count": 24,
   "id": "57c693f2",
   "metadata": {},
   "outputs": [],
   "source": [
    "df_limpio = eliminar_palabra_anios(df_datos_transformado, 'edad')\n",
    "df_limpio = agregar_fuente(df_limpio, '057')\n",
    "df_limpio = agregar_observacion(df_limpio)"
   ]
  },
  {
   "cell_type": "code",
   "execution_count": 25,
   "id": "bcd42d22",
   "metadata": {},
   "outputs": [
    {
     "name": "stdout",
     "output_type": "stream",
     "text": [
      "Se insertaron 7132 filas en la tabla 'infolab'.\n"
     ]
    }
   ],
   "source": [
    "connection_params = {\n",
    "    'dbname': os.getenv(\"DB_NAME\"),\n",
    "    'user': os.getenv(\"DB_USER\"),\n",
    "    'password': os.getenv(\"DB_PASSWORD\"),\n",
    "    'host': os.getenv(\"DB_HOST\"),\n",
    "    'port':os.getenv(\"DB_PORT\")\n",
    "}\n",
    "insert_into_info_lab(df_limpio, connection_params)"
   ]
  },
  {
   "cell_type": "code",
   "execution_count": 26,
   "id": "528dbb60",
   "metadata": {},
   "outputs": [],
   "source": [
    "df_pacientes = df_limpio[['id_paciente', 'Nombre del Paciente', 'edad', 'sexo']].drop_duplicates()"
   ]
  },
  {
   "cell_type": "code",
   "execution_count": 27,
   "id": "dc342cfb",
   "metadata": {},
   "outputs": [],
   "source": [
    "def separar_tipo_numero_identificacion(df, columna):\n",
    "    \"\"\"\n",
    "    Separa el tipo de identificación y el número de identificación a partir de una columna específica.\n",
    "\n",
    "    Parámetros:\n",
    "    - df: DataFrame de pandas.\n",
    "    - columna: Nombre de la columna que contiene los datos de identificación.\n",
    "\n",
    "    Retorna:\n",
    "    - DataFrame con dos nuevas columnas: 'tipo_identificacion' y 'numero_identificacion'.\n",
    "    \"\"\"\n",
    "    # Crear copia del DataFrame para no modificar el original\n",
    "    df_resultado = df.copy()\n",
    "    df_resultado[columna] = df_resultado[columna].astype(str).str.upper()  # Asegurarse de que la columna sea de tipo string\n",
    "    # Extraer el tipo de identificación (CC, TI, PA) y el número de identificación\n",
    "    df_resultado['tipo_de_identificacion'] = df_resultado[columna].str[:2].where(\n",
    "        df_resultado[columna].str[:2].isin(['CC', 'TI', 'PA', 'AS','CE','PE','PT','RC','CN','MS']), None\n",
    "    )\n",
    "    df_resultado['identificacion'] = df_resultado[columna].str[2:]\n",
    "\n",
    "    return df_resultado"
   ]
  },
  {
   "cell_type": "code",
   "execution_count": 28,
   "id": "b8335a7c",
   "metadata": {},
   "outputs": [
    {
     "name": "stdout",
     "output_type": "stream",
     "text": [
      "    id_paciente                Nombre del Paciente edad  sexo  \\\n",
      "0  CC1004631616         REINA BASANTE ALEX ROLANDO   24  None   \n",
      "1    CC19371592  ROSERO QUINGALAGUA HENRY MARCIANO   65  None   \n",
      "2    CC27388932           LOPEZ BRAVO DEISY ESTELA   39  None   \n",
      "3     CC5212496            LOPEZ AGUIRRE JULIO NEL   55  None   \n",
      "4     CC1809960   VALENCIA QUITIAQUEZ JOSE CLIMACO   69  None   \n",
      "\n",
      "  tipo_de_identificacion identificacion  \n",
      "0                     CC     1004631616  \n",
      "1                     CC       19371592  \n",
      "2                     CC       27388932  \n",
      "3                     CC        5212496  \n",
      "4                     CC        1809960  \n"
     ]
    }
   ],
   "source": [
    "df_pacientes = separar_tipo_numero_identificacion(df_pacientes, 'id_paciente')\n",
    "print(df_pacientes.head())"
   ]
  },
  {
   "cell_type": "code",
   "execution_count": 29,
   "id": "77c17fc3",
   "metadata": {
    "vscode": {
     "languageId": "javascript"
    }
   },
   "outputs": [],
   "source": [
    "df_pacientes = df_pacientes.rename(columns={\n",
    "    'Nombre del Paciente': 'nombre1',  \n",
    "    'edad': 'edad',\n",
    "    'sexo': 'sexo',\n",
    "    'id_paciente': 'id_paciente'\n",
    "})"
   ]
  },
  {
   "cell_type": "code",
   "execution_count": 30,
   "id": "9af156b1",
   "metadata": {},
   "outputs": [
    {
     "name": "stdout",
     "output_type": "stream",
     "text": [
      "Insertados 0 registros nuevos en paciente.\n"
     ]
    },
    {
     "data": {
      "text/plain": [
       "(True, 0)"
      ]
     },
     "execution_count": 30,
     "metadata": {},
     "output_type": "execute_result"
    }
   ],
   "source": [
    "cargar_dfpaciente(df_pacientes,'paciente', connection_params)"
   ]
  },
  {
   "cell_type": "code",
   "execution_count": null,
   "id": "36fd0ff2",
   "metadata": {},
   "outputs": [],
   "source": []
  }
 ],
 "metadata": {
  "kernelspec": {
   "display_name": "etl_sirec",
   "language": "python",
   "name": "etl_sirec"
  },
  "language_info": {
   "codemirror_mode": {
    "name": "ipython",
    "version": 3
   },
   "file_extension": ".py",
   "mimetype": "text/x-python",
   "name": "python",
   "nbconvert_exporter": "python",
   "pygments_lexer": "ipython3",
   "version": "3.12.3"
  }
 },
 "nbformat": 4,
 "nbformat_minor": 5
}
