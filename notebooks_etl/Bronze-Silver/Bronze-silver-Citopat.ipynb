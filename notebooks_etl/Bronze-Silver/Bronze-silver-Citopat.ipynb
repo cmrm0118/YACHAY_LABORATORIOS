{
 "cells": [
  {
   "cell_type": "code",
   "execution_count": 1,
   "id": "2b5f84a2",
   "metadata": {},
   "outputs": [
    {
     "name": "stdout",
     "output_type": "stream",
     "text": [
      "2025/06/29\n"
     ]
    }
   ],
   "source": [
    "from minio.error import S3Error\n",
    "import fitz  # PyMuPDF\n",
    "from datetime import datetime\n",
    "from io import BytesIO\n",
    "import pandas as pd\n",
    "import re\n",
    "import psycopg2\n",
    "import import_ipynb\n",
    "from Utils import conectar_minio,transformar_tipo_identificacion, generar_ruta_fecha,extraer_archivo_minio, insert_into_info_lab, agregar_fuente, agregar_observacion, cargar_dfpaciente\n",
    "import os\n",
    "from dotenv import load_dotenv\n"
   ]
  },
  {
   "cell_type": "code",
   "execution_count": 2,
   "id": "637d837f",
   "metadata": {},
   "outputs": [
    {
     "data": {
      "text/plain": [
       "True"
      ]
     },
     "execution_count": 2,
     "metadata": {},
     "output_type": "execute_result"
    }
   ],
   "source": [
    "# Cargar variables del archivo .env\n",
    "load_dotenv()"
   ]
  },
  {
   "cell_type": "code",
   "execution_count": 3,
   "id": "3c7e224b",
   "metadata": {},
   "outputs": [
    {
     "name": "stdout",
     "output_type": "stream",
     "text": [
      "Conexión exitosa a MinIO en localhost:9000\n",
      "Buckets disponibles: ['yachay', 'yachay-bronze', 'yachay-landing']\n"
     ]
    }
   ],
   "source": [
    "minio_client = conectar_minio(\n",
    "    endpoint=os.getenv(\"MINIO_ENDPOINT\"),\n",
    "    access_key=os.getenv(\"MINIO_ACCESS_KEY\"),\n",
    "    secret_key=os.getenv(\"MINIO_SECRET_KEY\"),\n",
    "    secure=False  # Usar HTTPS\n",
    ")"
   ]
  },
  {
   "cell_type": "code",
   "execution_count": 4,
   "id": "05a5c19e",
   "metadata": {},
   "outputs": [],
   "source": [
    "ruta_fecha = generar_ruta_fecha() "
   ]
  },
  {
   "cell_type": "code",
   "execution_count": 5,
   "id": "82728775",
   "metadata": {},
   "outputs": [
    {
     "name": "stdout",
     "output_type": "stream",
     "text": [
      "      PROTOCOLO      CEDULA                      NOMBRE  EDAD SEXO  TELEFONO  \\\n",
      "0         12023    27451216     ESPERANZA NOGUERA PABON    54    F       NaN   \n",
      "1         22023    37050039        MARIA FLORALBA ERAZO    67    F       NaN   \n",
      "2         32023    30730297       AMPARO ROSERO MIDEROS    60    F       NaN   \n",
      "3         42023  1108338133            JUAN DAVID MUÑOZ    10    M       0.0   \n",
      "4         52023    27433207         ALBA LIGIA MARTINEZ    57    F       NaN   \n",
      "...         ...         ...                         ...   ...  ...       ...   \n",
      "6264   62652023    27455629  TERESA ORFELINA ARCINIEGAS    58    F       0.0   \n",
      "6265   62662023    12957326     ALBERTO SIGIFREDO ERAZO    72    F       0.0   \n",
      "6266   62672023    12970542        ALBERTO LASSO TORRES    63    M       0.0   \n",
      "6267   62682023    27308551             ANA LUCIA BACCA    52   F.       0.0   \n",
      "6268   62692023  1004236380          ANDRES FELIPE DIAZ    21    M       0.0   \n",
      "\n",
      "           MEDICO REMITENTE DIAGNOSTICO CLINICO     MATERIAL ENVIADO  \\\n",
      "0          DR. ALVARO MUÑOZ    GASTRITIS ANTRAL   BIOPSIAS GASTRICAS   \n",
      "1     DR. EDGARDO BENAVIDES            PROLAPSO                UTERO   \n",
      "2          DR. ALVARO MUÑOZ                   -   BIOPSIAS GASTRICAS   \n",
      "3        DR. EDWARD BOLIVAR   APENDICITIS AGUDA       APENDICE CECAL   \n",
      "4          DR. ALVARO MUÑOZ                   -   BIOPSIAS GASTRICAS   \n",
      "...                     ...                 ...                  ...   \n",
      "6264        DR. JOSE CHAVES                   -   BIOPSIAS GASTRICAS   \n",
      "6265      DR. EDISSON MAFLA        COLELITIASIS      VESICULA BILIAR   \n",
      "6266       DR. EVER BOLAÑOS  NEVUS MELANOCITICO      BIOPSIA DE PIEL   \n",
      "6267      DR. MAURICIO MELO      NÓDULO MAMARIO       TEJIDO MAMARIO   \n",
      "6268      DR. EDISSON MAFLA        ADENOMEGALIA  GÁNGLIOS LINFÁTICOS   \n",
      "\n",
      "      RECIBIDO ENTREGADO                           DESCRIPCION MACROSCOPICA  \\\n",
      "0     10/01/23  17/01/23  1. Rotulado \"Antro\": En formol se recibe 1 fra...   \n",
      "1     10/01/23  17/01/23  Rotulado \"Utero\": En formol se recibe utero de...   \n",
      "2     10/01/23  17/01/23  1. Rotulado \"Antro\": En formol se recibe 1 fra...   \n",
      "3     10/01/23  17/01/23  Rotulado \"Apendice\": En formol se recibe apend...   \n",
      "4     10/01/23  17/01/23  1. Rotulado \"Antro\": En formol se recibe 1 fra...   \n",
      "...        ...       ...                                                ...   \n",
      "6264  27/12/23  12/01/24  1. Rotulado \"Cuerpo\": En formol se reciben 2 f...   \n",
      "6265  27/12/23  12/01/24  Rotulado \"Vesicula\": En formol se recibe vesic...   \n",
      "6266  27/12/23  12/01/24  Rotulado \"Nevus palpebral\": En formol se recib...   \n",
      "6267  27/12/23  12/01/24  Rotulado \"Nódulo mamario seno izquierdo\": En f...   \n",
      "6268  27/12/23  12/01/24  1. Rotulado \"Gánglio linfático submandibular\":...   \n",
      "\n",
      "                               DESCRIPCION MICROSCOPICA  \\\n",
      "0                                                   NaN   \n",
      "1                                                   NaN   \n",
      "2                                                   NaN   \n",
      "3                                                   NaN   \n",
      "4                                                   NaN   \n",
      "...                                                 ...   \n",
      "6264                                                NaN   \n",
      "6265                                                NaN   \n",
      "6266  Los cortes muestran fragmentos superficiales d...   \n",
      "6267  Los cortes muestran tejido mamario con fibrosi...   \n",
      "6268  Placas A y B: Los cortes muestran gánglios lin...   \n",
      "\n",
      "                                            DIAGNOSTICO  \\\n",
      "0     1. BIOPSIA DE MUCOSA GÁSTRICA ANTRAL:_x000D_\\n...   \n",
      "1     UTERO (P: 50 GR). HISTERECTOMÍA:_x000D_\\n_x000...   \n",
      "2     1. ROTULADO \"ANTRO\":_x000D_\\n- GASTRITIS CRÓNI...   \n",
      "3     APENDICE CECAL. APENDICECTOMÍA:_x000D_\\n_x000D...   \n",
      "4     1. ROTULADO \"ANTRO\":_x000D_\\n- FRAGMENTO DE MU...   \n",
      "...                                                 ...   \n",
      "6264  1. ROTULADO \"CUERPO\":_x000D_\\n- FRAGMENTOS DE ...   \n",
      "6265  VESICULA BILIAR. COLECISTECTOMIA:_x000D_\\n_x00...   \n",
      "6266  PIEL DE PÁRPADO. LESIÓN. BIOPSIA:_x000D_\\n_x00...   \n",
      "6267  GLÁNDULA MAMARIA IZQUIERDA. LESIÓN. RESECCIÓN:...   \n",
      "6268  1.2 GÁNGLIOS LINFÁTICOS SUBMANDIBULAR E INGUIN...   \n",
      "\n",
      "                     PATOLOGO CODIGO DE COBRO CIE-10            ENTIDAD  \n",
      "0      DRA. DIANA L. NUÑEZ F.        898101X2   K296         PROINSALUD  \n",
      "1      DRA. DIANA L. NUÑEZ F.          898201   D259      DR. BENAVIDES  \n",
      "2     DR. OSCAR F. SALAZAR A.        898101X2   K297         PROINSALUD  \n",
      "3     DR. OSCAR F. SALAZAR A.          898201   K359  H. EDUARDO SANTOS  \n",
      "4     DR. OSCAR F. SALAZAR A.        898101X2   K297         PROINSALUD  \n",
      "...                       ...             ...    ...                ...  \n",
      "6264  DR. OSCAR F. SALAZAR A.        898101X2   K296         PROINSALUD  \n",
      "6265  DR. OSCAR F. SALAZAR A.          898201   K802         PROINSALUD  \n",
      "6266  DR. OSCAR F. SALAZAR A.          898201   D239         PROINSALUD  \n",
      "6267  DR. OSCAR F. SALAZAR A.          898201   N62X         PROINSALUD  \n",
      "6268  DR. OSCAR F. SALAZAR A.        898201X2   R591     PROINSALUD AIC  \n",
      "\n",
      "[6269 rows x 18 columns]\n"
     ]
    }
   ],
   "source": [
    " #3. Extraer un archivo Excel/CSV/Parquet\n",
    "df_datos = extraer_archivo_minio(\n",
    "    minio_client=minio_client,\n",
    "    bucket_name=\"yachay-bronze\",\n",
    "    ruta_archivo=f\"laboratorios/{ruta_fecha}/laboratorio Citopat/citopat.csv\",\n",
    "    tipo_archivo=\"csv\"\n",
    ")\n",
    "print(df_datos)  # Mostrar las primeras filas del DataFrame extraído"
   ]
  },
  {
   "cell_type": "code",
   "execution_count": 6,
   "id": "ba38604c",
   "metadata": {},
   "outputs": [],
   "source": [
    "def transformar_df_lab_Citopat(df_datos):\n",
    "    \"\"\"\n",
    "    Transforma un DataFrame del laboratorio Jimenes a la estructura de id_infolab\n",
    "    \n",
    "    Parámetros:\n",
    "    - df_datos: DataFrame con los campos originales del laboratorio\n",
    "    \n",
    "    Retorna:\n",
    "    - DataFrame transformado con la estructura deseada\n",
    "    \"\"\"\n",
    "    \n",
    "    # Crear copia para no modificar el original\n",
    "    #df_transformado = df_datos.copy()\n",
    "    \n",
    "    # Mapeo de campos\n",
    "    mapeo_campos = {\n",
    "        'RECIBIDO': 'fecha_ingreso',\n",
    "        'ENTREGADO': 'fecha_informe',\n",
    "        'ENTIDAD': 'entidad',\n",
    "        'MEDICO REMITENTE': 'medico_remitente',\n",
    "        'MATERIAL ENVIADO': 'muestra_remitida',\n",
    "        'DESCRIPCION MACROSCOPICA': 'descripcion_macroscopica',\n",
    "        'DESCRIPCION MICROSCOPICA': 'descripcion_microscopica',\n",
    "        'DIAGNOSTICO': 'diagnostico',\n",
    "        'PATOLOGO': 'medico_ordenante',\n",
    "        'CEDULA': 'NumeroIdentificacion',\n",
    "        'NOMBRE': 'Nombre del Paciente',\n",
    "        'CIE-10': 'cie10',\n",
    "        'EDAD': 'Edad',\n",
    "        'SEXO': 'sexo',\n",
    "        'DIAGNOSTICO CLINICO':'diagnostico_clinico',\n",
    "        'TELEFONO': 'telefono',\n",
    "       \n",
    "    }\n",
    "    \n",
    "    # Renombrar columnas\n",
    "    df_transformado = df_datos.rename(columns=mapeo_campos)\n",
    "    \n",
    "    return df_transformado"
   ]
  },
  {
   "cell_type": "code",
   "execution_count": 7,
   "id": "e6fa47b3",
   "metadata": {},
   "outputs": [
    {
     "name": "stdout",
     "output_type": "stream",
     "text": [
      "Index(['PROTOCOLO', 'NumeroIdentificacion', 'Nombre del Paciente', 'Edad',\n",
      "       'sexo', 'telefono', 'medico_remitente', 'diagnostico_clinico',\n",
      "       'muestra_remitida', 'fecha_ingreso', 'fecha_informe',\n",
      "       'descripcion_macroscopica', 'descripcion_microscopica', 'diagnostico',\n",
      "       'medico_ordenante', 'CODIGO DE COBRO', 'cie10', 'entidad',\n",
      "       'TipoIdentificacion', 'id_paciente', 'fuente', 'comentarios',\n",
      "       'observacion'],\n",
      "      dtype='object')\n"
     ]
    }
   ],
   "source": [
    "df = transformar_df_lab_Citopat(df_datos)\n",
    "df = transformar_tipo_identificacion(df)\n",
    "df = agregar_fuente(df, \"056\")\n",
    "df = agregar_observacion(df)\n",
    "print(df.columns)  # Mostrar las columnas del DataFrame transformado"
   ]
  },
  {
   "cell_type": "code",
   "execution_count": 8,
   "id": "2606d520",
   "metadata": {},
   "outputs": [
    {
     "name": "stdout",
     "output_type": "stream",
     "text": [
      "Se insertaron 6269 filas en la tabla 'infolab'.\n"
     ]
    }
   ],
   "source": [
    "connection_params = {\n",
    "    'dbname': os.getenv(\"DB_NAME\"),\n",
    "    'user': os.getenv(\"DB_USER\"),\n",
    "    'password': os.getenv(\"DB_PASSWORD\"),\n",
    "    'host': os.getenv(\"DB_HOST\"),\n",
    "    'port':os.getenv(\"DB_PORT\")\n",
    "}\n",
    "insert_into_info_lab(df, connection_params)"
   ]
  },
  {
   "cell_type": "code",
   "execution_count": 9,
   "id": "a4dfa4f4",
   "metadata": {},
   "outputs": [
    {
     "name": "stdout",
     "output_type": "stream",
     "text": [
      "  NumeroIdentificacion      Nombre del Paciente sexo  Edad  telefono  \\\n",
      "0             27451216  ESPERANZA NOGUERA PABON    F    54       NaN   \n",
      "1             37050039     MARIA FLORALBA ERAZO    F    67       NaN   \n",
      "2             30730297    AMPARO ROSERO MIDEROS    F    60       NaN   \n",
      "3           1108338133         JUAN DAVID MUÑOZ    M    10       0.0   \n",
      "4             27433207      ALBA LIGIA MARTINEZ    F    57       NaN   \n",
      "\n",
      "    id_paciente TipoIdentificacion  \n",
      "0    CC27451216                 CC  \n",
      "1    CC37050039                 CC  \n",
      "2    CC30730297                 CC  \n",
      "3  TI1108338133                 TI  \n",
      "4    CC27433207                 CC  \n"
     ]
    }
   ],
   "source": [
    "df_paciente = df[['NumeroIdentificacion', 'Nombre del Paciente', 'sexo', 'Edad', 'telefono', 'id_paciente','TipoIdentificacion']].copy()\n",
    "df_paciente = df_paciente.drop_duplicates(subset=['id_paciente'], keep='first')\n",
    "df_paciente['NumeroIdentificacion'] = df_paciente['NumeroIdentificacion'].astype(str).str.replace('.0', '', regex=False)\n",
    "print(df_paciente.head())  # Mostrar las columnas del DataFrame transformado"
   ]
  },
  {
   "cell_type": "code",
   "execution_count": 10,
   "id": "9fa44be7",
   "metadata": {},
   "outputs": [],
   "source": [
    "def renombrar_campos_paciente(df_paciente):\n",
    "    \"\"\"\n",
    "    Renombra los campos del DataFrame df_paciente a los nombres especificados.\n",
    "\n",
    "    Parámetros:\n",
    "    - df_paciente: DataFrame con los campos originales.\n",
    "\n",
    "    Retorna:\n",
    "    - DataFrame con los campos renombrados.\n",
    "    \"\"\"\n",
    "    mapeo_campos = {\n",
    "        'Nombre del Paciente': 'nombre1',  # Asumiendo que este campo contiene el primer nombre\n",
    "        'NumeroIdentificacion': 'identificacion',\n",
    "        'sexo': 'sexo',\n",
    "        'Edad': 'edad',\n",
    "        'TipoIdentificacion': 'tipo_identificacion',    \n",
    "        'id_paciente': 'id_paciente',\n",
    "        # Agregar campos adicionales si están disponibles en el DataFrame original\n",
    "    }\n",
    "    \n",
    "    # Renombrar columnas\n",
    "    df_paciente_renombrado = df_paciente.rename(columns=mapeo_campos)\n",
    "    \n",
    "    # Agregar columnas faltantes con valores nulos\n",
    "    columnas_faltantes = [\n",
    "        'nombre2', 'nombre3', 'apellido1', 'apellido2',\n",
    "        'fecha_nacimiento', 'municipio_residencia', 'codigo_residencia',\n",
    "        'barrio_residencia', 'direccion'\n",
    "    ]\n",
    "    for columna in columnas_faltantes:\n",
    "        if columna not in df_paciente_renombrado.columns:\n",
    "            df_paciente_renombrado[columna] = None\n",
    "    \n",
    "    return df_paciente_renombrado"
   ]
  },
  {
   "cell_type": "code",
   "execution_count": 11,
   "id": "f33a5d2a",
   "metadata": {},
   "outputs": [
    {
     "name": "stdout",
     "output_type": "stream",
     "text": [
      "  identificacion                  nombre1 sexo  edad  telefono   id_paciente  \\\n",
      "0       27451216  ESPERANZA NOGUERA PABON    F    54       NaN    CC27451216   \n",
      "1       37050039     MARIA FLORALBA ERAZO    F    67       NaN    CC37050039   \n",
      "2       30730297    AMPARO ROSERO MIDEROS    F    60       NaN    CC30730297   \n",
      "3     1108338133         JUAN DAVID MUÑOZ    M    10       0.0  TI1108338133   \n",
      "4       27433207      ALBA LIGIA MARTINEZ    F    57       NaN    CC27433207   \n",
      "\n",
      "  tipo_identificacion nombre2 nombre3 apellido1 apellido2 fecha_nacimiento  \\\n",
      "0                  CC    None    None      None      None             None   \n",
      "1                  CC    None    None      None      None             None   \n",
      "2                  CC    None    None      None      None             None   \n",
      "3                  TI    None    None      None      None             None   \n",
      "4                  CC    None    None      None      None             None   \n",
      "\n",
      "  municipio_residencia codigo_residencia barrio_residencia direccion  \n",
      "0                 None              None              None      None  \n",
      "1                 None              None              None      None  \n",
      "2                 None              None              None      None  \n",
      "3                 None              None              None      None  \n",
      "4                 None              None              None      None  \n"
     ]
    }
   ],
   "source": [
    "df_paciente_renombrado = renombrar_campos_paciente(df_paciente)\n",
    "print(df_paciente_renombrado.head())"
   ]
  },
  {
   "cell_type": "code",
   "execution_count": 12,
   "id": "f6ffe674",
   "metadata": {},
   "outputs": [
    {
     "name": "stdout",
     "output_type": "stream",
     "text": [
      "Insertados 1 registros nuevos en paciente.\n"
     ]
    },
    {
     "data": {
      "text/plain": [
       "(True, 1)"
      ]
     },
     "execution_count": 12,
     "metadata": {},
     "output_type": "execute_result"
    }
   ],
   "source": [
    "cargar_dfpaciente(df_paciente_renombrado,'paciente', connection_params)"
   ]
  }
 ],
 "metadata": {
  "kernelspec": {
   "display_name": "Python 3",
   "language": "python",
   "name": "python3"
  },
  "language_info": {
   "codemirror_mode": {
    "name": "ipython",
    "version": 3
   },
   "file_extension": ".py",
   "mimetype": "text/x-python",
   "name": "python",
   "nbconvert_exporter": "python",
   "pygments_lexer": "ipython3",
   "version": "3.12.3"
  }
 },
 "nbformat": 4,
 "nbformat_minor": 5
}
