{
 "cells": [
  {
   "cell_type": "code",
   "execution_count": null,
   "id": "0c115208",
   "metadata": {},
   "outputs": [],
   "source": [
    "from minio.error import S3Error\n",
    "import fitz  # PyMuPDF\n",
    "from datetime import datetime\n",
    "from io import BytesIO\n",
    "import pandas as pd\n",
    "import re\n",
    "import psycopg2\n",
    "import import_ipynb\n",
    "from Utils import conectar_minio,transformate_df, generar_ruta_fecha,extraer_archivo_minio, insert_into_info_lab, cargar_dfpaciente, agregar_fuente, agregar_observacion\n",
    "import os\n",
    "from dotenv import load_dotenv"
   ]
  },
  {
   "cell_type": "code",
   "execution_count": null,
   "id": "feccf784",
   "metadata": {},
   "outputs": [],
   "source": [
    "# Cargar variables del archivo .env\n",
    "load_dotenv()"
   ]
  },
  {
   "cell_type": "code",
   "execution_count": null,
   "id": "8559ffb9",
   "metadata": {},
   "outputs": [
    {
     "name": "stdout",
     "output_type": "stream",
     "text": [
      "Conexión exitosa a MinIO en localhost:9000\n",
      "Buckets disponibles: ['yachay', 'yachay-bronze', 'yachay-landing']\n"
     ]
    }
   ],
   "source": [
    "minio_client = conectar_minio(\n",
    "    endpoint=os.getenv(\"MINIO_ENDPOINT\"),\n",
    "    access_key=os.getenv(\"MINIO_ACCESS_KEY\"),\n",
    "    secret_key=os.getenv(\"MINIO_SECRET_KEY\"),\n",
    "    secure=False  # Usar HTTPS\n",
    ")"
   ]
  },
  {
   "cell_type": "code",
   "execution_count": 50,
   "id": "3e338972",
   "metadata": {},
   "outputs": [],
   "source": [
    "ruta_fecha = generar_ruta_fecha()  "
   ]
  },
  {
   "cell_type": "code",
   "execution_count": 51,
   "id": "14483b2b",
   "metadata": {},
   "outputs": [
    {
     "name": "stdout",
     "output_type": "stream",
     "text": [
      "                      Archivo Numero de Informe  \\\n",
      "0  R0036-1089242582 CMVA.docx         24FS0036.   \n",
      "1     R032-59805655 CMVA.docx         24FS0032.   \n",
      "2         R033-5285368SC.docx          24FS033.   \n",
      "3        R034-30711337SC.docx          24FS034.   \n",
      "4       R35 -59834885 SC.docx            24FS35   \n",
      "\n",
      "                 Nombre del Paciente  Identificacion  Edad  Telefono  \\\n",
      "0      CRIOLLO CAICEDO BLANCA NIDIA.    1.089243e+09    36       NaN   \n",
      "1                MARTINEZ MARIA LUZ.    5.980566e+07    56       NaN   \n",
      "2  FRANCISCO PARMENIO ROJAS ALVAREZ.    5.285368e+06    69       NaN   \n",
      "3             MARIA ANGELICA MINGAN.    3.071134e+07    73       NaN   \n",
      "4                 AIDA CAROLINA MERA    5.953938e+07    47       NaN   \n",
      "\n",
      "  Fecha de Toma de Muestra  Fecha de Ingreso   Fecha de Informe  \\\n",
      "0         Enero 10 de 2024               NaN  Enero 16 de 2024.   \n",
      "1          Enero 5 de 2024               NaN  Enero 12 de 2024.   \n",
      "2         Enero 9 de 2024.               NaN  Enero 11 de 2024.   \n",
      "3         Enero 9 de 2024.               NaN  Enero 11 de 2024.   \n",
      "4        ENERO 11 de 2024.               NaN  ENERO 20 de 2024.   \n",
      "\n",
      "                Entidad  EPS  Servicio  Muestra Remitida  \\\n",
      "0  C.M. VALLE DE ATRIZ.  NaN       NaN               NaN   \n",
      "1  C.M. VALLE DE ATRIZ.  NaN       NaN               NaN   \n",
      "2           Particular.  NaN       NaN               NaN   \n",
      "3           Particular.  NaN       NaN               NaN   \n",
      "4           PARTICULAR.  NaN       NaN               NaN   \n",
      "\n",
      "                            Descripcion Macroscopica  \\\n",
      "0  En un frasco con formol, rotulado con datos de...   \n",
      "1  En un frasco con formol, rotulado con datos de...   \n",
      "2  En un frasco con formol, rotulado con datos de...   \n",
      "3  En un frasco con formol, rotulado con datos de...   \n",
      "4  A) En un frasco con formol, rotulado con datos...   \n",
      "\n",
      "                            Descripcion Microscopica  \\\n",
      "0  En el estudio microscópico se identifica vesíc...   \n",
      "1  En el estudio histológico se identifica a nive...   \n",
      "2  Fragmentos de lecho ulceroso con evidencia de ...   \n",
      "3  Fragmentos de mucosa gástrica corporal y antra...   \n",
      "4                                                NaN   \n",
      "\n",
      "                                         Diagnostico  Comentario  \n",
      "0  ['VESICULA BILIAR LESION COLECISTECTOMIA - COL...         NaN  \n",
      "1  ['PIE IZQUIERDO (PRIMER DEDO) HISTORIA DE DIAB...         NaN  \n",
      "2  ['ESTOMAGO: BIOPSIA: -ADENOCARCINOMA DE TIPO I...         NaN  \n",
      "3  ['ESTOMAGO: BIOPSIA: - ADENOCARCINOMA POBREMEN...         NaN  \n",
      "4  ['A) ESTOMAGO (ANTRO), BIOPSIA - GASTRITIS CRO...         NaN  \n"
     ]
    }
   ],
   "source": [
    " #3. Extraer un archivo Excel/CSV/Parquet\n",
    "df_datos = extraer_archivo_minio(\n",
    "    minio_client=minio_client,\n",
    "    bucket_name=\"yachay-bronze\",\n",
    "    ruta_archivo=f\"laboratorios/{ruta_fecha}/laboratorio Fernando Sanzon/Fernando Sanzon.csv\",\n",
    "    tipo_archivo=\"csv\"\n",
    ")\n",
    "print(df_datos)  # Mostrar las primeras filas del DataFrame extraído"
   ]
  },
  {
   "cell_type": "code",
   "execution_count": null,
   "id": "6533f890",
   "metadata": {},
   "outputs": [
    {
     "name": "stdout",
     "output_type": "stream",
     "text": [
      "                      archivo Numero de Informe  \\\n",
      "0  R0036-1089242582 CMVA.docx          24FS0036   \n",
      "1     R032-59805655 CMVA.docx          24FS0032   \n",
      "2         R033-5285368SC.docx           24FS033   \n",
      "3        R034-30711337SC.docx           24FS034   \n",
      "4       R35 -59834885 SC.docx            24FS35   \n",
      "\n",
      "                Nombre del Paciente NumeroIdentificacion  Edad  Telefono  \\\n",
      "0      CRIOLLO CAICEDO BLANCA NIDIA          10892425820    36       NaN   \n",
      "1                MARTINEZ MARIA LUZ            598056550    56       NaN   \n",
      "2  FRANCISCO PARMENIO ROJAS ALVAREZ             52853680    69       NaN   \n",
      "3             MARIA ANGELICA MINGAN            307113370    73       NaN   \n",
      "4                AIDA CAROLINA MERA            595393850    47       NaN   \n",
      "\n",
      "  fecha_toma_muestra  fecha_ingreso fecha_informe               entidad  eps  \\\n",
      "0         10/01/2024            NaN    16/01/2024  C.M. VALLE DE ATRIZ.  NaN   \n",
      "1         05/01/2024            NaN    12/01/2024  C.M. VALLE DE ATRIZ.  NaN   \n",
      "2         09/01/2024            NaN    11/01/2024           Particular.  NaN   \n",
      "3         09/01/2024            NaN    11/01/2024           Particular.  NaN   \n",
      "4         11/01/2024            NaN    20/01/2024           PARTICULAR.  NaN   \n",
      "\n",
      "   servicio  muestra_remitida  \\\n",
      "0       NaN               NaN   \n",
      "1       NaN               NaN   \n",
      "2       NaN               NaN   \n",
      "3       NaN               NaN   \n",
      "4       NaN               NaN   \n",
      "\n",
      "                            descripcion_macroscopica  \\\n",
      "0  En un frasco con formol, rotulado con datos de...   \n",
      "1  En un frasco con formol, rotulado con datos de...   \n",
      "2  En un frasco con formol, rotulado con datos de...   \n",
      "3  En un frasco con formol, rotulado con datos de...   \n",
      "4  A) En un frasco con formol, rotulado con datos...   \n",
      "\n",
      "                            descripcion_microscopica  \\\n",
      "0  En el estudio microscópico se identifica vesíc...   \n",
      "1  En el estudio histológico se identifica a nive...   \n",
      "2  Fragmentos de lecho ulceroso con evidencia de ...   \n",
      "3  Fragmentos de mucosa gástrica corporal y antra...   \n",
      "4                                                NaN   \n",
      "\n",
      "                                         diagnostico  comentario  \\\n",
      "0  'VESICULA BILIAR LESION COLECISTECTOMIA - COLE...         NaN   \n",
      "1  'PIE IZQUIERDO (PRIMER DEDO) HISTORIA DE DIABE...         NaN   \n",
      "2  'ESTOMAGO: BIOPSIA: -ADENOCARCINOMA DE TIPO IN...         NaN   \n",
      "3  'ESTOMAGO: BIOPSIA: - ADENOCARCINOMA POBREMENT...         NaN   \n",
      "4  'A) ESTOMAGO (ANTRO), BIOPSIA - GASTRITIS CRON...         NaN   \n",
      "\n",
      "  TipoIdentificacion    id_paciente           fuente  \n",
      "0                 CC  CC10892425820  Fernando_sanson  \n",
      "1                 CC    CC598056550  Fernando_sanson  \n",
      "2                 CC     CC52853680  Fernando_sanson  \n",
      "3                 CC    CC307113370  Fernando_sanson  \n",
      "4                 CC    CC595393850  Fernando_sanson  \n"
     ]
    }
   ],
   "source": [
    "df_datos = transformate_df(df_datos)  # Transformar el DataFrame\n",
    "df_datos = agregar_fuente(df_datos, \"109\")\n",
    "df_datos = agregar_observacion(df_datos)\n",
    "print(df_datos)  # Mostrar las primeras filas del DataFrame transformado"
   ]
  },
  {
   "cell_type": "code",
   "execution_count": null,
   "id": "bb84c8c9",
   "metadata": {},
   "outputs": [],
   "source": [
    "connection_params = {\n",
    "    'dbname': os.getenv(\"DB_NAME\"),\n",
    "    'user': os.getenv(\"DB_USER\"),\n",
    "    'password': os.getenv(\"DB_PASSWORD\"),\n",
    "    'host': os.getenv(\"DB_HOST\"),\n",
    "    'port':os.getenv(\"DB_PORT\")\n",
    "}"
   ]
  },
  {
   "cell_type": "code",
   "execution_count": 54,
   "id": "ed989928",
   "metadata": {},
   "outputs": [
    {
     "name": "stdout",
     "output_type": "stream",
     "text": [
      "Se insertaron 5 filas en la tabla 'infolab'.\n"
     ]
    }
   ],
   "source": [
    "insert_into_info_lab(df_datos, connection_params)"
   ]
  },
  {
   "cell_type": "code",
   "execution_count": 44,
   "id": "1b0380f4",
   "metadata": {},
   "outputs": [
    {
     "name": "stdout",
     "output_type": "stream",
     "text": [
      "Index(['archivo', 'Numero de Informe', 'Nombre del Paciente',\n",
      "       'NumeroIdentificacion', 'Edad', 'Telefono', 'fecha_toma_muestra',\n",
      "       'fecha_ingreso', 'fecha_informe', 'entidad', 'eps', 'servicio',\n",
      "       'muestra_remitida', 'descripcion_macroscopica',\n",
      "       'descripcion_microscopica', 'diagnostico', 'comentario',\n",
      "       'TipoIdentificacion', 'id_paciente', 'fuente'],\n",
      "      dtype='object')\n"
     ]
    }
   ],
   "source": [
    "print(df_datos.columns)  # Mostrar las columnas del DataFrame transformado"
   ]
  },
  {
   "cell_type": "code",
   "execution_count": 45,
   "id": "2eaf51f3",
   "metadata": {
    "vscode": {
     "languageId": "javascript"
    }
   },
   "outputs": [
    {
     "name": "stdout",
     "output_type": "stream",
     "text": [
      "                      archivo Numero de Informe  \\\n",
      "0  R0036-1089242582 CMVA.docx          24FS0036   \n",
      "1     R032-59805655 CMVA.docx          24FS0032   \n",
      "2         R033-5285368SC.docx           24FS033   \n",
      "3        R034-30711337SC.docx           24FS034   \n",
      "4       R35 -59834885 SC.docx            24FS35   \n",
      "\n",
      "                            nombre1 identificacion  edad  telefono  \\\n",
      "0      CRIOLLO CAICEDO BLANCA NIDIA    10892425820    36       NaN   \n",
      "1                MARTINEZ MARIA LUZ      598056550    56       NaN   \n",
      "2  FRANCISCO PARMENIO ROJAS ALVAREZ       52853680    69       NaN   \n",
      "3             MARIA ANGELICA MINGAN      307113370    73       NaN   \n",
      "4                AIDA CAROLINA MERA      595393850    47       NaN   \n",
      "\n",
      "  fecha_toma_muestra  fecha_ingreso fecha_informe               entidad  eps  \\\n",
      "0         10/01/2024            NaN    16/01/2024  C.M. VALLE DE ATRIZ.  NaN   \n",
      "1         05/01/2024            NaN    12/01/2024  C.M. VALLE DE ATRIZ.  NaN   \n",
      "2         09/01/2024            NaN    11/01/2024           Particular.  NaN   \n",
      "3         09/01/2024            NaN    11/01/2024           Particular.  NaN   \n",
      "4         11/01/2024            NaN    20/01/2024           PARTICULAR.  NaN   \n",
      "\n",
      "   servicio  muestra_remitida  \\\n",
      "0       NaN               NaN   \n",
      "1       NaN               NaN   \n",
      "2       NaN               NaN   \n",
      "3       NaN               NaN   \n",
      "4       NaN               NaN   \n",
      "\n",
      "                            descripcion_macroscopica  \\\n",
      "0  En un frasco con formol, rotulado con datos de...   \n",
      "1  En un frasco con formol, rotulado con datos de...   \n",
      "2  En un frasco con formol, rotulado con datos de...   \n",
      "3  En un frasco con formol, rotulado con datos de...   \n",
      "4  A) En un frasco con formol, rotulado con datos...   \n",
      "\n",
      "                            descripcion_microscopica  \\\n",
      "0  En el estudio microscópico se identifica vesíc...   \n",
      "1  En el estudio histológico se identifica a nive...   \n",
      "2  Fragmentos de lecho ulceroso con evidencia de ...   \n",
      "3  Fragmentos de mucosa gástrica corporal y antra...   \n",
      "4                                                NaN   \n",
      "\n",
      "                                         diagnostico  comentario  \\\n",
      "0  'VESICULA BILIAR LESION COLECISTECTOMIA - COLE...         NaN   \n",
      "1  'PIE IZQUIERDO (PRIMER DEDO) HISTORIA DE DIABE...         NaN   \n",
      "2  'ESTOMAGO: BIOPSIA: -ADENOCARCINOMA DE TIPO IN...         NaN   \n",
      "3  'ESTOMAGO: BIOPSIA: - ADENOCARCINOMA POBREMENT...         NaN   \n",
      "4  'A) ESTOMAGO (ANTRO), BIOPSIA - GASTRITIS CRON...         NaN   \n",
      "\n",
      "  tipo_de_identificacion    id_paciente           fuente  \n",
      "0                     CC  CC10892425820  Fernando_sanson  \n",
      "1                     CC    CC598056550  Fernando_sanson  \n",
      "2                     CC     CC52853680  Fernando_sanson  \n",
      "3                     CC    CC307113370  Fernando_sanson  \n",
      "4                     CC    CC595393850  Fernando_sanson  \n"
     ]
    }
   ],
   "source": [
    "df_datos.rename(columns={\n",
    "    'Nombre del Paciente': 'nombre1',\n",
    "    'NumeroIdentificacion': 'identificacion',\n",
    "    'TipoIdentificacion': 'tipo_de_identificacion',\n",
    "    'Edad': 'edad',\n",
    "    'Telefono': 'telefono',\n",
    "}, inplace=True)\n",
    "\n",
    "print(df_datos.head())"
   ]
  },
  {
   "cell_type": "code",
   "execution_count": 46,
   "id": "5cc085b6",
   "metadata": {
    "vscode": {
     "languageId": "javascript"
    }
   },
   "outputs": [],
   "source": [
    "df_pacientes = df_datos[['nombre1', 'identificacion', 'tipo_de_identificacion', 'edad', 'telefono', 'id_paciente']].copy()"
   ]
  },
  {
   "cell_type": "code",
   "execution_count": 47,
   "id": "f07b14af",
   "metadata": {},
   "outputs": [
    {
     "name": "stdout",
     "output_type": "stream",
     "text": [
      "Insertados 1 registros nuevos en paciente.\n"
     ]
    },
    {
     "data": {
      "text/plain": [
       "(True, 1)"
      ]
     },
     "execution_count": 47,
     "metadata": {},
     "output_type": "execute_result"
    }
   ],
   "source": [
    "cargar_dfpaciente(df_pacientes,'paciente', connection_params)"
   ]
  }
 ],
 "metadata": {
  "kernelspec": {
   "display_name": "etl_sirec",
   "language": "python",
   "name": "etl_sirec"
  },
  "language_info": {
   "codemirror_mode": {
    "name": "ipython",
    "version": 3
   },
   "file_extension": ".py",
   "mimetype": "text/x-python",
   "name": "python",
   "nbconvert_exporter": "python",
   "pygments_lexer": "ipython3",
   "version": "3.12.3"
  }
 },
 "nbformat": 4,
 "nbformat_minor": 5
}
