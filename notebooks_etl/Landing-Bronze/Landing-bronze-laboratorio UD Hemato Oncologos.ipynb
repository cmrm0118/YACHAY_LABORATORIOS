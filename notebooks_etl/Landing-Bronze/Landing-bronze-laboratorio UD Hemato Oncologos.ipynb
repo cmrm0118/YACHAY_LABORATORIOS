{
 "cells": [
  {
   "cell_type": "code",
   "execution_count": null,
   "metadata": {},
   "outputs": [],
   "source": [
    "from minio.error import S3Error\n",
    "from datetime import datetime\n",
    "from io import BytesIO\n",
    "import pandas as pd\n",
    "import import_ipynb\n",
    "import sys\n",
    "import os\n",
    "from dotenv import load_dotenv\n",
    "import import_ipynb\n",
    "from Utils import conectar_minio, guardar_df_en_minio, generar_ruta_fecha, extraer_archivo_minio\n"
   ]
  },
  {
   "cell_type": "code",
   "execution_count": 2,
   "metadata": {},
   "outputs": [
    {
     "data": {
      "text/plain": [
       "True"
      ]
     },
     "execution_count": 2,
     "metadata": {},
     "output_type": "execute_result"
    }
   ],
   "source": [
    "# Cargar variables del archivo .env\n",
    "load_dotenv()"
   ]
  },
  {
   "cell_type": "code",
   "execution_count": 3,
   "metadata": {},
   "outputs": [
    {
     "name": "stdout",
     "output_type": "stream",
     "text": [
      "Conexión exitosa a MinIO en localhost:9000\n",
      "Buckets disponibles: ['yachay', 'yachay-bronze', 'yachay-landing']\n"
     ]
    }
   ],
   "source": [
    "minio_client = conectar_minio(\n",
    "    endpoint=os.getenv(\"MINIO_ENDPOINT\"),\n",
    "    access_key=os.getenv(\"MINIO_ACCESS_KEY\"),\n",
    "    secret_key=os.getenv(\"MINIO_SECRET_KEY\"),\n",
    "    secure=False  # Usar HTTPS\n",
    ")"
   ]
  },
  {
   "cell_type": "code",
   "execution_count": null,
   "metadata": {},
   "outputs": [
    {
     "name": "stdout",
     "output_type": "stream",
     "text": [
      "   PROTOCOLO      CEDULA                   NOMBRE  EDAD SEXO  TELEFONO  \\\n",
      "0      12023    27451216  ESPERANZA NOGUERA PABON    54    F       NaN   \n",
      "1      22023    37050039     MARIA FLORALBA ERAZO    67    F       NaN   \n",
      "2      32023    30730297    AMPARO ROSERO MIDEROS    60    F       NaN   \n",
      "3      42023  1108338133         JUAN DAVID MUÑOZ    10    M       0.0   \n",
      "4      52023    27433207      ALBA LIGIA MARTINEZ    57    F       NaN   \n",
      "\n",
      "        MEDICO REMITENTE DIAGNOSTICO CLINICO    MATERIAL ENVIADO  RECIBIDO  \\\n",
      "0       DR. ALVARO MUÑOZ    GASTRITIS ANTRAL  BIOPSIAS GASTRICAS  10/01/23   \n",
      "1  DR. EDGARDO BENAVIDES            PROLAPSO               UTERO  10/01/23   \n",
      "2       DR. ALVARO MUÑOZ                   -  BIOPSIAS GASTRICAS  10/01/23   \n",
      "3     DR. EDWARD BOLIVAR   APENDICITIS AGUDA      APENDICE CECAL  10/01/23   \n",
      "4       DR. ALVARO MUÑOZ                   -  BIOPSIAS GASTRICAS  10/01/23   \n",
      "\n",
      "  ENTREGADO                           DESCRIPCION MACROSCOPICA  \\\n",
      "0  17/01/23  1. Rotulado \"Antro\": En formol se recibe 1 fra...   \n",
      "1  17/01/23  Rotulado \"Utero\": En formol se recibe utero de...   \n",
      "2  17/01/23  1. Rotulado \"Antro\": En formol se recibe 1 fra...   \n",
      "3  17/01/23  Rotulado \"Apendice\": En formol se recibe apend...   \n",
      "4  17/01/23  1. Rotulado \"Antro\": En formol se recibe 1 fra...   \n",
      "\n",
      "  DESCRIPCION MICROSCOPICA                                        DIAGNOSTICO  \\\n",
      "0                      NaN  1. BIOPSIA DE MUCOSA GÁSTRICA ANTRAL:_x000D_\\n...   \n",
      "1                      NaN  UTERO (P: 50 GR). HISTERECTOMÍA:_x000D_\\n_x000...   \n",
      "2                      NaN  1. ROTULADO \"ANTRO\":_x000D_\\n- GASTRITIS CRÓNI...   \n",
      "3                      NaN  APENDICE CECAL. APENDICECTOMÍA:_x000D_\\n_x000D...   \n",
      "4                      NaN  1. ROTULADO \"ANTRO\":_x000D_\\n- FRAGMENTO DE MU...   \n",
      "\n",
      "                  PATOLOGO CODIGO DE COBRO CIE-10            ENTIDAD  \n",
      "0   DRA. DIANA L. NUÑEZ F.        898101X2   K296         PROINSALUD  \n",
      "1   DRA. DIANA L. NUÑEZ F.          898201   D259      DR. BENAVIDES  \n",
      "2  DR. OSCAR F. SALAZAR A.        898101X2   K297         PROINSALUD  \n",
      "3  DR. OSCAR F. SALAZAR A.          898201   K359  H. EDUARDO SANTOS  \n",
      "4  DR. OSCAR F. SALAZAR A.        898101X2   K297         PROINSALUD  \n"
     ]
    }
   ],
   "source": [
    "# Extraer un archivo Excel/CSV/Parquet\n",
    "df_datos = extraer_archivo_minio(\n",
    "    minio_client=minio_client,\n",
    "    bucket_name=\"yachay-landing\",\n",
    "    ruta_archivo=\"Laboratorios/3. UDHO/MALIGNIDAD_2018_2024.xlsx\",\n",
    "    tipo_archivo=\"excel\"\n",
    ")\n",
    "print(df_datos.head())  # Mostrar las primeras filas del DataFrame extraído"
   ]
  },
  {
   "cell_type": "code",
   "execution_count": 5,
   "metadata": {},
   "outputs": [],
   "source": [
    "ruta_fecha = generar_ruta_fecha()"
   ]
  },
  {
   "cell_type": "code",
   "execution_count": null,
   "metadata": {},
   "outputs": [
    {
     "name": "stdout",
     "output_type": "stream",
     "text": [
      "DataFrame guardado exitosamente en: yachay-bronze/laboratorios/2025/06/15/laboratorio Citopat/citopat.csv\n"
     ]
    }
   ],
   "source": [
    "# Guardar el DataFrame en MinIO\n",
    "ruta_minio = guardar_df_en_minio(\n",
    "    minio_client=minio_client,  # Cliente de la conexión anterior\n",
    "    df=df_datos,\n",
    "    bucket_name=\"yachay-bronze\",\n",
    "    ruta_destino=f\"laboratorios/{ruta_fecha}/laboratorio UDHO/udho\",  # La extensión se agregará automáticamente\n",
    "    formato='csv',  # También puede ser 'csv', 'json' o 'excel'\n",
    "    crear_bucket=True\n",
    ")"
   ]
  }
 ],
 "metadata": {
  "kernelspec": {
   "display_name": "Python 3",
   "language": "python",
   "name": "python3"
  },
  "language_info": {
   "codemirror_mode": {
    "name": "ipython",
    "version": 3
   },
   "file_extension": ".py",
   "mimetype": "text/x-python",
   "name": "python",
   "nbconvert_exporter": "python",
   "pygments_lexer": "ipython3",
   "version": "3.12.3"
  }
 },
 "nbformat": 4,
 "nbformat_minor": 2
}
