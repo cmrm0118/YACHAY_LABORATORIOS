{
 "cells": [
  {
   "cell_type": "code",
   "execution_count": 1,
   "id": "3d86e293",
   "metadata": {},
   "outputs": [],
   "source": [
    "import os\n",
    "import nbformat\n",
    "from nbconvert.preprocessors import ExecutePreprocessor"
   ]
  },
  {
   "cell_type": "code",
   "execution_count": 2,
   "id": "2514af98",
   "metadata": {},
   "outputs": [],
   "source": [
    "def execute_notebook(notebook_path):\n",
    "    \"\"\"Ejecuta un notebook dado su path.\"\"\"\n",
    "    with open(notebook_path, 'r', encoding='utf-8') as f:\n",
    "        notebook = nbformat.read(f, as_version=4)\n",
    "    executor = ExecutePreprocessor(timeout=600, kernel_name='python3')\n",
    "    try:\n",
    "        executor.preprocess(notebook, {'metadata': {'path': os.path.dirname(notebook_path)}})\n",
    "        print(f\"Ejecutado exitosamente: {notebook_path}\")\n",
    "    except Exception as e:\n",
    "        print(f\"Error ejecutando {notebook_path}: {e}\")"
   ]
  },
  {
   "cell_type": "code",
   "execution_count": 3,
   "id": "660534f2",
   "metadata": {},
   "outputs": [],
   "source": [
    "def execute_notebooks_in_folders(folders):\n",
    "    \"\"\"Ejecuta todos los notebooks en las carpetas especificadas en orden.\"\"\"\n",
    "    for folder in folders:\n",
    "        for root, _, files in os.walk(folder):\n",
    "            for file in sorted(files):  # Ordena los archivos para asegurar un orden consistente\n",
    "                if file.endswith('.ipynb'):\n",
    "                    notebook_path = os.path.join(root, file)\n",
    "                    execute_notebook(notebook_path)\n",
    "\n"
   ]
  },
  {
   "cell_type": "code",
   "execution_count": 4,
   "id": "306b05ee",
   "metadata": {},
   "outputs": [
    {
     "name": "stdout",
     "output_type": "stream",
     "text": [
      "Ejecutado exitosamente: Silver-golden\\Silver-golden.ipynb\n",
      "Ejecutado exitosamente: Silver-golden\\Utils.ipynb\n"
     ]
    }
   ],
   "source": [
    "# Define las carpetas en el orden deseado\n",
    "folders_to_execute = ['Silver-golden']\n",
    "execute_notebooks_in_folders(folders_to_execute)"
   ]
  }
 ],
 "metadata": {
  "kernelspec": {
   "display_name": "Python (myenv)",
   "language": "python",
   "name": "myenv"
  },
  "language_info": {
   "codemirror_mode": {
    "name": "ipython",
    "version": 3
   },
   "file_extension": ".py",
   "mimetype": "text/x-python",
   "name": "python",
   "nbconvert_exporter": "python",
   "pygments_lexer": "ipython3",
   "version": "3.12.3"
  }
 },
 "nbformat": 4,
 "nbformat_minor": 5
}
