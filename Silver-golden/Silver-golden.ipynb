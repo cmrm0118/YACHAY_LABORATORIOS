{
 "cells": [
  {
   "cell_type": "code",
   "execution_count": 1,
   "id": "25fdb3d3",
   "metadata": {},
   "outputs": [],
   "source": [
    "import import_ipynb\n",
    "from Utils import integracion_obs_infolab, obtener_columnas_destino, integracionpaciente\n",
    "import psycopg2\n",
    "import os\n",
    "from dotenv import load_dotenv"
   ]
  },
  {
   "cell_type": "code",
   "execution_count": 2,
   "id": "cb6e1bb9",
   "metadata": {},
   "outputs": [
    {
     "data": {
      "text/plain": [
       "True"
      ]
     },
     "execution_count": 2,
     "metadata": {},
     "output_type": "execute_result"
    }
   ],
   "source": [
    "# Cargar variables del archivo .env\n",
    "load_dotenv()"
   ]
  },
  {
   "cell_type": "code",
   "execution_count": 3,
   "id": "474d32f3",
   "metadata": {},
   "outputs": [],
   "source": [
    "connection_params = {\n",
    "    'db_name': os.getenv(\"DB_NAME\"),\n",
    "    'user': os.getenv(\"DB_USER\"),\n",
    "    'password': os.getenv(\"DB_PASSWORD\"),\n",
    "    'host': os.getenv(\"DB_HOST\"),\n",
    "    'port':os.getenv(\"DB_PORT\")\n",
    "}"
   ]
  },
  {
   "cell_type": "code",
   "execution_count": 4,
   "id": "25fb224f",
   "metadata": {},
   "outputs": [
    {
     "name": "stdout",
     "output_type": "stream",
     "text": [
      "Conexión exitosa a PostgreSQL PostgreSQL 16.0, compiled by Visual C++ build 1935, 64-bit\n"
     ]
    }
   ],
   "source": [
    "# 2. Obtener columnas destino\n",
    "columnas_bd = obtener_columnas_destino(connection_params)"
   ]
  },
  {
   "cell_type": "code",
   "execution_count": 5,
   "id": "6fc65365",
   "metadata": {},
   "outputs": [
    {
     "name": "stdout",
     "output_type": "stream",
     "text": [
      "Conexión exitosa a PostgreSQL PostgreSQL 16.0, compiled by Visual C++ build 1935, 64-bit\n",
      "Se insertaron 19723 nuevos registros de pacientes\n",
      "Conexión a PostgreSQL cerrada\n",
      "Integración de paciente completada exitosamente.\n",
      "Conexión exitosa a PostgreSQL PostgreSQL 16.0, compiled by Visual C++ build 1935, 64-bit\n"
     ]
    },
    {
     "name": "stderr",
     "output_type": "stream",
     "text": [
      "<string>:29: UserWarning: pandas only supports SQLAlchemy connectable (engine/connection) or database string URI or sqlite3 DBAPI2 connection. Other DBAPI2 objects are not tested. Please consider using SQLAlchemy.\n",
      "<string>:37: UserWarning: pandas only supports SQLAlchemy connectable (engine/connection) or database string URI or sqlite3 DBAPI2 connection. Other DBAPI2 objects are not tested. Please consider using SQLAlchemy.\n"
     ]
    },
    {
     "name": "stdout",
     "output_type": "stream",
     "text": [
      "Actualización completada con éxito.\n",
      "Conexión cerrada.\n",
      "Integración de observaciones InfoLab completada exitosamente.\n"
     ]
    }
   ],
   "source": [
    "# 3. Ejecutar integración\n",
    "if columnas_bd:\n",
    "    resultadoPaciente = integracionpaciente(columnas_bd, connection_params)\n",
    "    if resultadoPaciente:\n",
    "        print(\"Integración de paciente completada exitosamente.\")\n",
    "        # Abrir conexión y pasarla a la función       \n",
    "        resutadoInfoLab=integracion_obs_infolab(connection_params)\n",
    "        if resutadoInfoLab:\n",
    "            print(\"Integración de observaciones InfoLab completada exitosamente.\")  \n",
    "        else:\n",
    "            print(\"Error al ejecutar la integración de observaciones InfoLab.\")\n",
    "    else:\n",
    "        print(\"Error al ejecutar la integración de paciente.\")\n",
    "else:\n",
    "    print(\"No se pudieron obtener las columnas destino\")"
   ]
  },
  {
   "cell_type": "code",
   "execution_count": null,
   "id": "9efc7181",
   "metadata": {},
   "outputs": [],
   "source": []
  }
 ],
 "metadata": {
  "kernelspec": {
   "display_name": "Python (myenv)",
   "language": "python",
   "name": "myenv"
  },
  "language_info": {
   "codemirror_mode": {
    "name": "ipython",
    "version": 3
   },
   "file_extension": ".py",
   "mimetype": "text/x-python",
   "name": "python",
   "nbconvert_exporter": "python",
   "pygments_lexer": "ipython3",
   "version": "3.12.3"
  }
 },
 "nbformat": 4,
 "nbformat_minor": 5
}
