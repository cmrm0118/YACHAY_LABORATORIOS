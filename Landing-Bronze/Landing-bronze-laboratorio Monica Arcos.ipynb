{
 "cells": [
  {
   "cell_type": "code",
   "execution_count": 1,
   "metadata": {},
   "outputs": [
    {
     "name": "stdout",
     "output_type": "stream",
     "text": [
      "2025/06/15\n"
     ]
    }
   ],
   "source": [
    "from minio.error import S3Error\n",
    "from datetime import datetime\n",
    "from io import BytesIO\n",
    "import pandas as pd\n",
    "import import_ipynb\n",
    "from Utils import conectar_minio, guardar_df_en_minio, generar_ruta_fecha, extraer_archivo_minio\n",
    "import os\n",
    "from dotenv import load_dotenv"
   ]
  },
  {
   "cell_type": "code",
   "execution_count": 2,
   "metadata": {},
   "outputs": [
    {
     "data": {
      "text/plain": [
       "True"
      ]
     },
     "execution_count": 2,
     "metadata": {},
     "output_type": "execute_result"
    }
   ],
   "source": [
    "# Cargar variables del archivo .env\n",
    "load_dotenv()"
   ]
  },
  {
   "cell_type": "code",
   "execution_count": 3,
   "metadata": {},
   "outputs": [
    {
     "name": "stdout",
     "output_type": "stream",
     "text": [
      "Conexión exitosa a MinIO en localhost:9000\n",
      "Buckets disponibles: ['yachay', 'yachay-bronze', 'yachay-landing']\n"
     ]
    }
   ],
   "source": [
    "minio_client = conectar_minio(\n",
    "    endpoint=os.getenv(\"MINIO_ENDPOINT\"),\n",
    "    access_key=os.getenv(\"MINIO_ACCESS_KEY\"),\n",
    "    secret_key=os.getenv(\"MINIO_SECRET_KEY\"),\n",
    "    secure=False  # Usar HTTPS\n",
    ")"
   ]
  },
  {
   "cell_type": "code",
   "execution_count": 4,
   "metadata": {},
   "outputs": [
    {
     "name": "stdout",
     "output_type": "stream",
     "text": [
      "  No   No Placa Institución Administradora  \\\n",
      "0  1  2228327.0           EMSSANAR EPS SAS   \n",
      "1  2  2228328.0           EMSSANAR EPS SAS   \n",
      "2  3  2228412.0           EMSSANAR EPS SAS   \n",
      "3  4  2228413.0           EMSSANAR EPS SAS   \n",
      "4  5  2228414.0           EMSSANAR EPS SAS   \n",
      "\n",
      "                                Institución Toma    Id Usuario  \\\n",
      "0                            RADIOLOGICO DEL SUR  CC1004631616   \n",
      "1                                 HOSPITAL CIVIL    CC19371592   \n",
      "2  IPS GASTROCENTER Y ESPECIALIDADES MEDICAS SAS    CC27388932   \n",
      "3  IPS GASTROCENTER Y ESPECIALIDADES MEDICAS SAS     CC5212496   \n",
      "4  IPS GASTROCENTER Y ESPECIALIDADES MEDICAS SAS     CC1809960   \n",
      "\n",
      "                    Nombres Afiliado     Edad                     Muestra de  \\\n",
      "0         REINA BASANTE ALEX ROLANDO  24 Años        MASA DE TEJIDOS BLANDOS   \n",
      "1  ROSERO QUINGALAGUA HENRY MARCIANO  65 Años                 QUISTE SEBACEO   \n",
      "2           LOPEZ BRAVO DEISY ESTELA  39 Años               BIOPSIA GASTRICA   \n",
      "3            LOPEZ AGUIRRE JULIO NEL  55 Años  BX GASTRICA DE ANTRO Y CUERPO   \n",
      "4   VALENCIA QUITIAQUEZ JOSE CLIMACO  69 Años  BX GASTRICA DE ANTRO Y CUERPO   \n",
      "\n",
      "  Fecha Recibido Fecha Resultado  \\\n",
      "0     2022-12-12      2022-12-27   \n",
      "1     2022-12-12      2022-12-27   \n",
      "2     2022-12-14      2022-12-28   \n",
      "3     2022-12-14      2022-12-28   \n",
      "4     2022-12-14      2022-12-28   \n",
      "\n",
      "                                  Dx Histopatológico  \n",
      "0  REGION SACROLUMBAR IZQUIERDA. Masa. Resección:...  \n",
      "1  Piel de parte no especifica. Lesión. Resección...  \n",
      "2  Mucosa gástrica de antro y cuerpo. Biopsia end...  \n",
      "3  A: Mucosa gástrica de antro. Biopsia endoscópi...  \n",
      "4  A: Mucosa gástrica de antro. Biopsia endoscópi...  \n"
     ]
    }
   ],
   "source": [
    "# Extraer un archivo Excel/CSV/Parquet\n",
    "df_datos = extraer_archivo_minio(\n",
    "    minio_client=minio_client,\n",
    "    bucket_name=\"yachay-landing\",\n",
    "    ruta_archivo=\"Laboratorios/Laboratorio Monica Arcos/BASE PATOLOGIA 2023.xlsx\",\n",
    "    tipo_archivo=\"excel\"\n",
    ")\n",
    "print(df_datos.head())  # Mostrar las primeras filas del DataFrame extraído"
   ]
  },
  {
   "cell_type": "code",
   "execution_count": 5,
   "metadata": {},
   "outputs": [],
   "source": [
    "ruta_fecha = generar_ruta_fecha()"
   ]
  },
  {
   "cell_type": "code",
   "execution_count": 6,
   "metadata": {},
   "outputs": [
    {
     "name": "stdout",
     "output_type": "stream",
     "text": [
      "DataFrame guardado exitosamente en: yachay-bronze/laboratorios/2025/06/15/laboratorio Monica Arcos/Monica Arcos.csv\n"
     ]
    }
   ],
   "source": [
    "# Guardar el DataFrame en MinIO\n",
    "ruta_minio = guardar_df_en_minio(\n",
    "    minio_client=minio_client,  # Cliente de la conexión anterior\n",
    "    df=df_datos,\n",
    "    bucket_name=\"yachay-bronze\",\n",
    "    ruta_destino=f\"laboratorios/{ruta_fecha}/laboratorio Monica Arcos/Monica Arcos\",  # La extensión se agregará automáticamente\n",
    "    formato='csv',  # También puede ser 'csv', 'json' o 'excel'\n",
    "    crear_bucket=True\n",
    ")"
   ]
  }
 ],
 "metadata": {
  "kernelspec": {
   "display_name": "etl_sirec",
   "language": "python",
   "name": "etl_sirec"
  },
  "language_info": {
   "codemirror_mode": {
    "name": "ipython",
    "version": 3
   },
   "file_extension": ".py",
   "mimetype": "text/x-python",
   "name": "python",
   "nbconvert_exporter": "python",
   "pygments_lexer": "ipython3",
   "version": "3.12.3"
  }
 },
 "nbformat": 4,
 "nbformat_minor": 2
}
