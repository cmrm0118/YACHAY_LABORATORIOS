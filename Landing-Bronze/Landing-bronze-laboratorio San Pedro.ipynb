{
 "cells": [
  {
   "cell_type": "code",
   "execution_count": 1,
   "metadata": {},
   "outputs": [
    {
     "name": "stdout",
     "output_type": "stream",
     "text": [
      "2025/06/15\n"
     ]
    }
   ],
   "source": [
    "from minio.error import S3Error\n",
    "from datetime import datetime\n",
    "from io import BytesIO\n",
    "import pandas as pd\n",
    "import import_ipynb\n",
    "from Utils import (conectar_minio, guardar_df_en_minio, generar_ruta_fecha, extraer_archivo_minio)"
   ]
  },
  {
   "cell_type": "code",
   "execution_count": 2,
   "metadata": {},
   "outputs": [
    {
     "data": {
      "text/plain": [
       "True"
      ]
     },
     "execution_count": 2,
     "metadata": {},
     "output_type": "execute_result"
    }
   ],
   "source": [
    "import os\n",
    "from dotenv import load_dotenv\n",
    "# Cargar variables del archivo .env\n",
    "load_dotenv()"
   ]
  },
  {
   "cell_type": "code",
   "execution_count": 3,
   "metadata": {},
   "outputs": [
    {
     "name": "stdout",
     "output_type": "stream",
     "text": [
      "Conexión exitosa a MinIO en localhost:9000\n",
      "Buckets disponibles: ['yachay', 'yachay-bronze', 'yachay-landing']\n"
     ]
    }
   ],
   "source": [
    "minio_client = conectar_minio(\n",
    "    endpoint=os.getenv(\"MINIO_ENDPOINT\"),\n",
    "    access_key=os.getenv(\"MINIO_ACCESS_KEY\"),\n",
    "    secret_key=os.getenv(\"MINIO_SECRET_KEY\"),\n",
    "    secure=False  # Usar HTTPS\n",
    ")"
   ]
  },
  {
   "cell_type": "code",
   "execution_count": 4,
   "metadata": {},
   "outputs": [
    {
     "name": "stdout",
     "output_type": "stream",
     "text": [
      "  ADMISION TIPO ID NOHISTORIA                          PACIENTE  \\\n",
      "0  1285375      CC   12865021         GOMEZ SALAS VICENTE RAMON   \n",
      "1  1274217      CC    5256941        ARTEAGA ROSERO JOSE MARINO   \n",
      "2  1274357      CC   27093153  DELGADO CABRERA ROMELIA TRINIDAD   \n",
      "3  1273941      CC   27387098  OBANDO ARTEAGA CENEIDA GUADALUPE   \n",
      "4  1274230      CC   27079284         BENAVIDES  LAURA VICTORIA   \n",
      "\n",
      "  FECHA NACIMIENTO       SEXO                                EMPRESA  \\\n",
      "0       1953-04-05  MASCULINO  NUEVA E.P.S. CONTRIBUTIVO (2022-2023)   \n",
      "1       1944-11-14  MASCULINO  EMSSANAR EPS SAS SUBSIDIADO 2023-2024   \n",
      "2       1957-11-28   FEMENINO  EMSSANAR EPS SAS SUBSIDIADO 2023-2024   \n",
      "3       1960-08-05   FEMENINO  NUEVA E.P.S. CONTRIBUTIVO (2022-2023)   \n",
      "4       1943-02-04   FEMENINO  EMSSANAR EPS SAS SUBSIDIADO 2023-2024   \n",
      "\n",
      "              ATENCION                    PABELLON    CODIGO  \\\n",
      "0          AMBULATORIO                         NaN  898102.0   \n",
      "1  CIRUGIA AMBULATORIA                         NaN  898801.0   \n",
      "2        HOSPITALIZADO  CAMA MUJER URGENCIAS MEDQX  898002.0   \n",
      "3  CIRUGIA AMBULATORIA                         NaN  898101.0   \n",
      "4  CIRUGIA AMBULATORIA                         NaN  898241.0   \n",
      "\n",
      "                                       PROCEDIMIENTO  \\\n",
      "0  ESTUDIO DE COLORACION HISTOQUIMICA EN BIOPSIA ...   \n",
      "1                            ESTUDIO POR CONGELACION   \n",
      "2  ESTUDIO DE COLORACION BASICA EN CITOLOGIA DE L...   \n",
      "3            ESTUDIO DE COLORACION BASICA EN BIOPSIA   \n",
      "4  ESTUDIO DE COLORACION BASICA EN ESPECIMEN CON ...   \n",
      "\n",
      "                    MEDICO ORDENA No. PATOLOGIA     FECHA RECEPCION  \\\n",
      "0                            .  .        721-23 2023-01-01 16:20:00   \n",
      "1  BASTIDAS ANDRADE JHON FAUSTINO        012-23 2023-01-02 08:58:00   \n",
      "2      SUAREZ SILVA DANIEL FELIPE        001-23 2023-01-02 09:31:00   \n",
      "3    MORAN DELGADO FABIO FERNANDO        002-23 2023-01-02 09:35:00   \n",
      "4   ENRIQUEZ VARELA JORGE ALBERTO        024-23 2023-01-02 09:40:00   \n",
      "\n",
      "      FECHA REALIZADO  DIAS  \\\n",
      "0 2023-02-08 16:20:00  38.0   \n",
      "1 2023-01-02 09:56:00   0.0   \n",
      "2 2023-01-12 09:38:00  10.0   \n",
      "3 2023-01-16 16:31:00  14.0   \n",
      "4 2023-01-19 09:40:00  17.0   \n",
      "\n",
      "                                   DESCRIPCION MACRO  \\\n",
      "0  A: ROTULADO ANTRO, EN FORMOL SE RECIBEN 2 FRAG...   \n",
      "1  ROTULADO TUMOR DE PIEL REGION DORSAL EN FRESCO...   \n",
      "2  ROTULADO LIQUIDO ASCITICO SE RECIBEN 8 CC DE L...   \n",
      "3  A: ROTULADO MEJILLA DERECHA: EN FORMOL SE RECI...   \n",
      "4  ROTULADO TUMOR MALIGNO FRONTAL, EN FORMOL SE R...   \n",
      "\n",
      "                                   DESCRIPCION MICRO  \\\n",
      "0  A: EN LAS PREPARACIONES ANALIZADAS SE IDENTIFI...   \n",
      "1  INFORME VERBAL INTRAOPERATORIO BIOPSIA POR CON...   \n",
      "2          FONDO DEL EXTENDIDO: HEMORRAGICO ACELULAR   \n",
      "3  A Y B: SE IDENTIFICA PIEL CON TUMOR BENIGNO DE...   \n",
      "4  SE IDENTIFICA PIEL CON LESION MELANOCITICA, CO...   \n",
      "\n",
      "                                 DX HISTOPATOLOGICO   \n",
      "0  A: BIOPSIA GASTRICA ANTRAL:\\n-\\tGASTRITIS ANTR...  \n",
      "1  PIEL, REGION DORSAL, LESION RESECCION. LOCAL A...  \n",
      "2  LIQUIDO ASCITICO, PARACENTESIS. CITOLOGIA:\\n-\\...  \n",
      "3  A:  PIEL, MEJILLA DERECHA. LESION RESECCION:\\n...  \n",
      "4  PIEL, REGION NASAL, LESION RESECCION LOCAL AMP...  \n"
     ]
    }
   ],
   "source": [
    "# Extraer un archivo Excel/CSV/Parquet\n",
    "df_datos = extraer_archivo_minio(\n",
    "    minio_client=minio_client,\n",
    "    bucket_name=\"yachay-landing\",\n",
    "    ruta_archivo=\"Laboratorios/San Pedro/REC PATOLOGIA SP_2023.xlsx\",\n",
    "    tipo_archivo=\"excel\"\n",
    ")\n",
    "print(df_datos.head())  # Mostrar las primeras filas del DataFrame extraído"
   ]
  },
  {
   "cell_type": "code",
   "execution_count": 5,
   "metadata": {},
   "outputs": [],
   "source": [
    "ruta_fecha = generar_ruta_fecha()"
   ]
  },
  {
   "cell_type": "code",
   "execution_count": 6,
   "metadata": {},
   "outputs": [
    {
     "name": "stdout",
     "output_type": "stream",
     "text": [
      "DataFrame guardado exitosamente en: yachay-bronze/laboratorios/2025/06/15/laboratorio San Pedro/San Pedro.csv\n"
     ]
    }
   ],
   "source": [
    "# Guardar el DataFrame en MinIO\n",
    "ruta_minio = guardar_df_en_minio(\n",
    "    minio_client=minio_client,  # Cliente de la conexión anterior\n",
    "    df=df_datos,\n",
    "    bucket_name=\"yachay-bronze\",\n",
    "    ruta_destino=f\"laboratorios/{ruta_fecha}/laboratorio San Pedro/San Pedro\",  # La extensión se agregará automáticamente\n",
    "    formato='csv',  # También puede ser 'csv', 'json' o 'excel'\n",
    "    crear_bucket=True\n",
    ")"
   ]
  }
 ],
 "metadata": {
  "kernelspec": {
   "display_name": "etl_sirec",
   "language": "python",
   "name": "etl_sirec"
  },
  "language_info": {
   "codemirror_mode": {
    "name": "ipython",
    "version": 3
   },
   "file_extension": ".py",
   "mimetype": "text/x-python",
   "name": "python",
   "nbconvert_exporter": "python",
   "pygments_lexer": "ipython3",
   "version": "3.12.3"
  }
 },
 "nbformat": 4,
 "nbformat_minor": 2
}
