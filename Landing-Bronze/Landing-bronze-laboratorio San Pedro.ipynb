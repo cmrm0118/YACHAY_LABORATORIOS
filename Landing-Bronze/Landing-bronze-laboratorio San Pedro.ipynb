{
 "cells": [
  {
   "cell_type": "code",
   "execution_count": null,
   "metadata": {},
   "outputs": [],
   "source": [
    "from minio.error import S3Error\n",
    "from datetime import datetime\n",
    "from io import BytesIO\n",
    "import pandas as pd\n",
    "import import_ipynb\n",
    "from Utils import (conectar_minio, guardar_df_en_minio, generar_ruta_fecha, extraer_archivo_minio)"
   ]
  },
  {
   "cell_type": "code",
   "execution_count": null,
   "metadata": {},
   "outputs": [],
   "source": [
    "import os\n",
    "from dotenv import load_dotenv\n",
    "# Cargar variables del archivo .env\n",
    "load_dotenv()"
   ]
  },
  {
   "cell_type": "code",
   "execution_count": null,
   "metadata": {},
   "outputs": [],
   "source": [
    "minio_client = conectar_minio(\n",
    "    endpoint=os.getenv(\"MINIO_ENDPOINT\"),\n",
    "    access_key=os.getenv(\"MINIO_ACCESS_KEY\"),\n",
    "    secret_key=os.getenv(\"MINIO_SECRET_KEY\"),\n",
    "    secure=False  # Usar HTTPS\n",
    ")"
   ]
  },
  {
   "cell_type": "code",
   "execution_count": null,
   "metadata": {},
   "outputs": [],
   "source": [
    "# Extraer un archivo Excel/CSV/Parquet\n",
    "df_datos = extraer_archivo_minio(\n",
    "    minio_client=minio_client,\n",
    "    bucket_name=\"yachay-landing\",\n",
    "    ruta_archivo=\"Laboratorios/San Pedro/REC PATOLOGIA SP_2023.xlsx\",\n",
    "    tipo_archivo=\"excel\"\n",
    ")\n",
    "print(df_datos.head())  # Mostrar las primeras filas del DataFrame extraído"
   ]
  },
  {
   "cell_type": "code",
   "execution_count": null,
   "metadata": {},
   "outputs": [],
   "source": [
    "ruta_fecha = generar_ruta_fecha()"
   ]
  },
  {
   "cell_type": "code",
   "execution_count": null,
   "metadata": {},
   "outputs": [],
   "source": [
    "# Guardar el DataFrame en MinIO\n",
    "ruta_minio = guardar_df_en_minio(\n",
    "    minio_client=minio_client,  # Cliente de la conexión anterior\n",
    "    df=df_datos,\n",
    "    bucket_name=\"yachay-bronze\",\n",
    "    ruta_destino=f\"laboratorios/{ruta_fecha}/laboratorio San Pedro/San Pedro\",  # La extensión se agregará automáticamente\n",
    "    formato='csv',  # También puede ser 'csv', 'json' o 'excel'\n",
    "    crear_bucket=True\n",
    ")"
   ]
  }
 ],
 "metadata": {
  "kernelspec": {
   "display_name": "Python 3",
   "language": "python",
   "name": "python3"
  },
  "language_info": {
   "codemirror_mode": {
    "name": "ipython",
    "version": 3
   },
   "file_extension": ".py",
   "mimetype": "text/x-python",
   "name": "python",
   "nbconvert_exporter": "python",
   "pygments_lexer": "ipython3",
   "version": "3.13.0"
  }
 },
 "nbformat": 4,
 "nbformat_minor": 2
}
