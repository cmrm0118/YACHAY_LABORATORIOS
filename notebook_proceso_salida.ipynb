{
 "cells": [
  {
   "cell_type": "code",
   "execution_count": 1,
   "id": "025498b5",
   "metadata": {
    "execution": {
     "iopub.execute_input": "2025-05-07T04:15:28.570361Z",
     "iopub.status.busy": "2025-05-07T04:15:28.569363Z",
     "iopub.status.idle": "2025-05-07T04:15:28.575382Z",
     "shell.execute_reply": "2025-05-07T04:15:28.575382Z"
    },
    "papermill": {
     "duration": 0.011543,
     "end_time": "2025-05-07T04:15:28.577388",
     "exception": false,
     "start_time": "2025-05-07T04:15:28.565845",
     "status": "completed"
    },
    "tags": [
     "injected-parameters"
    ]
   },
   "outputs": [],
   "source": [
    "# Parameters\n",
    "fecha = \"'2025/05/06'\"\n"
   ]
  },
  {
   "cell_type": "code",
   "execution_count": 2,
   "id": "fdbc0e94",
   "metadata": {
    "execution": {
     "iopub.execute_input": "2025-05-07T04:15:28.584413Z",
     "iopub.status.busy": "2025-05-07T04:15:28.584413Z",
     "iopub.status.idle": "2025-05-07T04:15:29.415421Z",
     "shell.execute_reply": "2025-05-07T04:15:29.414409Z"
    },
    "papermill": {
     "duration": 0.836542,
     "end_time": "2025-05-07T04:15:29.416930",
     "exception": false,
     "start_time": "2025-05-07T04:15:28.580388",
     "status": "completed"
    },
    "tags": []
   },
   "outputs": [],
   "source": [
    "import os\n",
    "import nbformat\n",
    "from nbconvert.preprocessors import ExecutePreprocessor"
   ]
  },
  {
   "cell_type": "code",
   "execution_count": 3,
   "id": "96e134c4",
   "metadata": {
    "execution": {
     "iopub.execute_input": "2025-05-07T04:15:29.421936Z",
     "iopub.status.busy": "2025-05-07T04:15:29.421936Z",
     "iopub.status.idle": "2025-05-07T04:15:29.429553Z",
     "shell.execute_reply": "2025-05-07T04:15:29.428545Z"
    },
    "papermill": {
     "duration": 0.013126,
     "end_time": "2025-05-07T04:15:29.432062",
     "exception": false,
     "start_time": "2025-05-07T04:15:29.418936",
     "status": "completed"
    },
    "tags": []
   },
   "outputs": [],
   "source": [
    "def execute_notebook(notebook_path):\n",
    "    \"\"\"Ejecuta un notebook dado su path.\"\"\"\n",
    "    with open(notebook_path, 'r', encoding='utf-8') as f:\n",
    "        notebook = nbformat.read(f, as_version=4)\n",
    "    executor = ExecutePreprocessor(timeout=600, kernel_name='python3')\n",
    "    try:\n",
    "        executor.preprocess(notebook, {'metadata': {'path': os.path.dirname(notebook_path)}})\n",
    "        print(f\"Ejecutado exitosamente: {notebook_path}\")\n",
    "    except Exception as e:\n",
    "        print(f\"Error ejecutando {notebook_path}: {e}\")"
   ]
  },
  {
   "cell_type": "code",
   "execution_count": 4,
   "id": "228caa6f",
   "metadata": {
    "execution": {
     "iopub.execute_input": "2025-05-07T04:15:29.442619Z",
     "iopub.status.busy": "2025-05-07T04:15:29.442111Z",
     "iopub.status.idle": "2025-05-07T04:15:29.449104Z",
     "shell.execute_reply": "2025-05-07T04:15:29.448097Z"
    },
    "papermill": {
     "duration": 0.014994,
     "end_time": "2025-05-07T04:15:29.451106",
     "exception": false,
     "start_time": "2025-05-07T04:15:29.436112",
     "status": "completed"
    },
    "tags": []
   },
   "outputs": [],
   "source": [
    "def execute_notebooks_in_folders(folders):\n",
    "    \"\"\"Ejecuta todos los notebooks en las carpetas especificadas en orden.\"\"\"\n",
    "    for folder in folders:\n",
    "        for root, _, files in os.walk(folder):\n",
    "            for file in sorted(files):  # Ordena los archivos para asegurar un orden consistente\n",
    "                if file.endswith('.ipynb'):\n",
    "                    notebook_path = os.path.join(root, file)\n",
    "                    execute_notebook(notebook_path)\n",
    "\n"
   ]
  },
  {
   "cell_type": "code",
   "execution_count": 5,
   "id": "8a93b912",
   "metadata": {
    "execution": {
     "iopub.execute_input": "2025-05-07T04:15:29.457627Z",
     "iopub.status.busy": "2025-05-07T04:15:29.457627Z",
     "iopub.status.idle": "2025-05-07T04:16:50.064847Z",
     "shell.execute_reply": "2025-05-07T04:16:50.063835Z"
    },
    "papermill": {
     "duration": 80.613734,
     "end_time": "2025-05-07T04:16:50.066844",
     "exception": false,
     "start_time": "2025-05-07T04:15:29.453110",
     "status": "completed"
    },
    "tags": []
   },
   "outputs": [
    {
     "name": "stdout",
     "output_type": "stream",
     "text": [
      "Ejecutado exitosamente: Landing-Bronze\\Landing-bronze-Citopat.ipynb\n"
     ]
    },
    {
     "name": "stdout",
     "output_type": "stream",
     "text": [
      "Ejecutado exitosamente: Landing-Bronze\\Landing-bronze-laboratorio Fernando Sanzon.ipynb\n"
     ]
    },
    {
     "name": "stdout",
     "output_type": "stream",
     "text": [
      "Ejecutado exitosamente: Landing-Bronze\\Landing-bronze-laboratorio Jimenez Ipiales.ipynb\n"
     ]
    },
    {
     "name": "stdout",
     "output_type": "stream",
     "text": [
      "Ejecutado exitosamente: Landing-Bronze\\Landing-bronze-laboratorio Jimenez Pasto.ipynb\n"
     ]
    },
    {
     "name": "stdout",
     "output_type": "stream",
     "text": [
      "Ejecutado exitosamente: Landing-Bronze\\Landing-bronze-laboratorio Monica Arcos.ipynb\n"
     ]
    },
    {
     "name": "stdout",
     "output_type": "stream",
     "text": [
      "Ejecutado exitosamente: Landing-Bronze\\Landing-bronze-laboratorio San Pedro.ipynb\n"
     ]
    },
    {
     "name": "stdout",
     "output_type": "stream",
     "text": [
      "Ejecutado exitosamente: Landing-Bronze\\Utils.ipynb\n"
     ]
    },
    {
     "name": "stdout",
     "output_type": "stream",
     "text": [
      "Ejecutado exitosamente: Bronze-Silver\\Bronze-silver-Citopat.ipynb\n"
     ]
    },
    {
     "name": "stdout",
     "output_type": "stream",
     "text": [
      "Ejecutado exitosamente: Bronze-Silver\\Bronze-silver-Laboratorio Fernado Sanzon.ipynb\n"
     ]
    },
    {
     "name": "stdout",
     "output_type": "stream",
     "text": [
      "Ejecutado exitosamente: Bronze-Silver\\Bronze-silver-laboratorio Jimenez.ipynb\n"
     ]
    },
    {
     "name": "stdout",
     "output_type": "stream",
     "text": [
      "Ejecutado exitosamente: Bronze-Silver\\Bronze-silver-laboratorio Monica Arcos.ipynb\n"
     ]
    },
    {
     "name": "stdout",
     "output_type": "stream",
     "text": [
      "Ejecutado exitosamente: Bronze-Silver\\Utils.ipynb\n"
     ]
    }
   ],
   "source": [
    "# Define las carpetas en el orden deseado\n",
    "folders_to_execute = ['Landing-Bronze', 'Bronze-Silver']\n",
    "execute_notebooks_in_folders(folders_to_execute)"
   ]
  }
 ],
 "metadata": {
  "kernelspec": {
   "display_name": "etl_sirec",
   "language": "python",
   "name": "etl_sirec"
  },
  "language_info": {
   "codemirror_mode": {
    "name": "ipython",
    "version": 3
   },
   "file_extension": ".py",
   "mimetype": "text/x-python",
   "name": "python",
   "nbconvert_exporter": "python",
   "pygments_lexer": "ipython3",
   "version": "3.12.3"
  },
  "papermill": {
   "default_parameters": {},
   "duration": 86.108668,
   "end_time": "2025-05-07T04:16:50.634511",
   "environment_variables": {},
   "exception": null,
   "input_path": "OrquestadorLabs.ipynb",
   "output_path": "notebook_proceso_salida.ipynb",
   "parameters": {
    "fecha": "'2025/05/06'"
   },
   "start_time": "2025-05-07T04:15:24.525843",
   "version": "2.6.0"
  }
 },
 "nbformat": 4,
 "nbformat_minor": 5
}