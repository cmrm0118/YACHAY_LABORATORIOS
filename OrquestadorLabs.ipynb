{
 "cells": [
  {
   "cell_type": "code",
   "execution_count": 5,
   "id": "fdbc0e94",
   "metadata": {},
   "outputs": [],
   "source": [
    "import os\n",
    "import nbformat\n",
    "from nbconvert.preprocessors import ExecutePreprocessor"
   ]
  },
  {
   "cell_type": "code",
   "execution_count": 6,
   "id": "96e134c4",
   "metadata": {},
   "outputs": [],
   "source": [
    "def execute_notebook(notebook_path):\n",
    "    \"\"\"Ejecuta un notebook dado su path.\"\"\"\n",
    "    with open(notebook_path, 'r', encoding='utf-8') as f:\n",
    "        notebook = nbformat.read(f, as_version=4)\n",
    "    executor = ExecutePreprocessor(timeout=600, kernel_name='python3')\n",
    "    try:\n",
    "        executor.preprocess(notebook, {'metadata': {'path': os.path.dirname(notebook_path)}})\n",
    "        print(f\"Ejecutado exitosamente: {notebook_path}\")\n",
    "    except Exception as e:\n",
    "        print(f\"Error ejecutando {notebook_path}: {e}\")"
   ]
  },
  {
   "cell_type": "code",
   "execution_count": 7,
   "id": "228caa6f",
   "metadata": {},
   "outputs": [],
   "source": [
    "def execute_notebooks_in_folders(folders):\n",
    "    \"\"\"Ejecuta todos los notebooks en las carpetas especificadas en orden.\"\"\"\n",
    "    for folder in folders:\n",
    "        for root, _, files in os.walk(folder):\n",
    "            for file in sorted(files):  # Ordena los archivos para asegurar un orden consistente\n",
    "                if file.endswith('.ipynb'):\n",
    "                    notebook_path = os.path.join(root, file)\n",
    "                    execute_notebook(notebook_path)\n",
    "\n"
   ]
  },
  {
   "cell_type": "code",
   "execution_count": 8,
   "id": "8a93b912",
   "metadata": {},
   "outputs": [
    {
     "name": "stdout",
     "output_type": "stream",
     "text": [
      "Ejecutado exitosamente: Landing-Bronze\\Landing-bronze-Citopat.ipynb\n",
      "Ejecutado exitosamente: Landing-Bronze\\Landing-bronze-laboratorio Fernando Sanzon.ipynb\n",
      "Ejecutado exitosamente: Landing-Bronze\\Landing-bronze-laboratorio Jimenez Ipiales.ipynb\n",
      "Ejecutado exitosamente: Landing-Bronze\\Landing-bronze-laboratorio Jimenez Pasto.ipynb\n",
      "Ejecutado exitosamente: Landing-Bronze\\Landing-bronze-laboratorio Monica Arcos.ipynb\n",
      "Ejecutado exitosamente: Landing-Bronze\\Landing-bronze-laboratorio San Pedro.ipynb\n",
      "Ejecutado exitosamente: Landing-Bronze\\Utils.ipynb\n",
      "Ejecutado exitosamente: Bronze-Silver\\Bronze-silver-Citopat.ipynb\n",
      "Ejecutado exitosamente: Bronze-Silver\\Bronze-silver-Laboratorio Fernado Sanzon.ipynb\n",
      "Ejecutado exitosamente: Bronze-Silver\\Bronze-silver-laboratorio Jimenez.ipynb\n",
      "Ejecutado exitosamente: Bronze-Silver\\Bronze-silver-laboratorio Monica Arcos.ipynb\n",
      "Ejecutado exitosamente: Bronze-Silver\\Bronze-silver-laboratorio San Pedro.ipynb\n",
      "Ejecutado exitosamente: Bronze-Silver\\Utils.ipynb\n"
     ]
    }
   ],
   "source": [
    "# Define las carpetas en el orden deseado\n",
    "folders_to_execute = ['Landing-Bronze', 'Bronze-Silver']\n",
    "execute_notebooks_in_folders(folders_to_execute)"
   ]
  }
 ],
 "metadata": {
  "kernelspec": {
   "display_name": "Python (myenv)",
   "language": "python",
   "name": "myenv"
  },
  "language_info": {
   "codemirror_mode": {
    "name": "ipython",
    "version": 3
   },
   "file_extension": ".py",
   "mimetype": "text/x-python",
   "name": "python",
   "nbconvert_exporter": "python",
   "pygments_lexer": "ipython3",
   "version": "3.12.3"
  }
 },
 "nbformat": 4,
 "nbformat_minor": 5
}
